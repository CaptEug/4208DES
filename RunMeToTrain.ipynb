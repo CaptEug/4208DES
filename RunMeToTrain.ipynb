{
 "cells": [
  {
   "cell_type": "markdown",
   "metadata": {},
   "source": [
    "# Face Recognition using CNN"
   ]
  },
  {
   "cell_type": "markdown",
   "metadata": {},
   "source": [
    " # Step1:\n",
    " \n",
    "At the first, you should input the required libraries:"
   ]
  },
  {
   "cell_type": "code",
   "execution_count": 1,
   "metadata": {},
   "outputs": [],
   "source": [
    "import keras\n",
    "from keras.models import Sequential\n",
    "from keras.layers import Conv2D, MaxPooling2D, Dense, Flatten, Input\n",
    "\n",
    "import numpy as np\n",
    "import pandas as pd\n",
    "import tensorflow as tf\n",
    "#tf.config.run_functions_eagerly(True)\n",
    "import matplotlib.pyplot as plt\n",
    "from sklearn.model_selection import train_test_split\n",
    "\n",
    "from sklearn.metrics import confusion_matrix\n",
    "from sklearn.metrics import classification_report\n",
    "from sklearn.metrics import roc_curve, auc\n",
    "from sklearn.metrics import accuracy_score\n",
    "import np_utils\n",
    "import itertools"
   ]
  },
  {
   "cell_type": "markdown",
   "metadata": {},
   "source": [
    "# Step2:\n",
    "\n",
    "* Load Dataset :\n",
    "\n",
    "After loading the Dataset you have to normalize every image.\n",
    "\n",
    "Note: an image is a Uint8 matrix of pixels and for calculation, you need to convert the format of the image to float or double"
   ]
  },
  {
   "cell_type": "code",
   "execution_count": 2,
   "metadata": {},
   "outputs": [
    {
     "name": "stdout",
     "output_type": "stream",
     "text": [
      "x_train : [[0.9372549  0.9254902  0.8666667  ... 0.95686275 0.95686275 0.9764706 ]\n",
      " [0.6313726  0.6        0.5764706  ... 0.8980392  0.8666667  0.8627451 ]\n",
      " [0.9882353  0.9882353  0.9843137  ... 0.9254902  0.9411765  0.9411765 ]\n",
      " ...\n",
      " [0.00784314 0.01960784 0.00392157 ... 0.85490197 0.8627451  0.8980392 ]\n",
      " [0.9843137  1.         0.99607843 ... 0.8901961  0.8901961  0.8862745 ]\n",
      " [0.9843137  0.9764706  0.9843137  ... 0.14509805 0.1764706  0.16470589]]\n",
      "y_train : [ 8  1 11  3  5  8  8  9 11  9 12  8  5  3 12  3 12  2  6  6  1  5  6  4\n",
      "  3  5  5 11  5  8  9  8  9 10 11  3  1 12  1  7  0 11  5  9  7  8  9  5\n",
      "  9  3 10  2  6 12  6 10  0  7  4 12 12  7  2  2  6  0  5  8  0 11 11  0\n",
      "  7  3  1  9 11  9  1  3 11  7  5  7  6  4  6  1  8  8  4  3  6 11  7  4\n",
      " 11 10 10  5  7  9 11 11  1  0  6 11  4  7 11 11  1  2 12  9  7  3  0  8\n",
      "  7  7  7  6 10  0  8  1  5  5 10  9  2  0 11 10  0  0 12  0  5  0  1  1\n",
      "  5  1  5  2  8  1  0  6  9  5  4  9]\n",
      "y_train shape: (156,)\n",
      "x_train shape: (156, 8100)\n"
     ]
    }
   ],
   "source": [
    "#load dataset\n",
    "x_data = np.load(\"trainset/train_x.npy\")\n",
    "y_data = np.load(\"trainset/train_y.npy\")\n",
    "\n",
    "\n",
    "#normalize every image\n",
    "x_data= np.array(x_data,dtype='float32')/255\n",
    "\n",
    "#Creating a mapping for index and face names\n",
    "facemapping = {\n",
    "0:'E',\n",
    "1:'G',\n",
    "2:'hanseng',\n",
    "3:'eugene',\n",
    "4:'tanaaz',\n",
    "5:'B',\n",
    "6:'ivan',\n",
    "7:'A',\n",
    "8:'F',\n",
    "9:'C',\n",
    "10:'david',\n",
    "11:'D',\n",
    "12:'hiran'}\n",
    "#train test split\n",
    "x_train, x_test, y_train, y_test= train_test_split(\n",
    "    x_data, y_data, test_size=.3, random_state=1234,)\n",
    "# show the train and test Data format\n",
    "print('x_train : {}'.format(x_train[:]))\n",
    "print('y_train : {}'.format(y_train))\n",
    "print('y_train shape: {}'.format(y_train.shape))\n",
    "print('x_train shape: {}'.format(x_train.shape))"
   ]
  },
  {
   "cell_type": "markdown",
   "metadata": {},
   "source": [
    "# Step 3\n",
    "\n",
    "Split DataSet : Validation data and Train \n",
    "\n",
    "Validation DataSet: this data set is used to minimize overfitting.If the accuracy over the training data set increases, but the accuracy over then validation data set stays the same or decreases, then you're overfitting your neural network and you should stop training.\n",
    "\n",
    " * Note: we usually use 30 percent of every dataset as the validation data but Here we only used 5 percent because the number of images in this dataset is very low. \n",
    "\n"
   ]
  },
  {
   "cell_type": "code",
   "execution_count": 3,
   "metadata": {},
   "outputs": [],
   "source": [
    "x_train, x_valid, y_train, y_valid= train_test_split(\n",
    "    x_train, y_train, test_size=.05, random_state=1234,)"
   ]
  },
  {
   "cell_type": "markdown",
   "metadata": {},
   "source": [
    "# Step 4\n",
    "\n",
    "for using the CNN, we need to change The size of images ( The size of images must be the same)"
   ]
  },
  {
   "cell_type": "code",
   "execution_count": 4,
   "metadata": {},
   "outputs": [
    {
     "name": "stdout",
     "output_type": "stream",
     "text": [
      "[[[0.98039216]\n",
      "  [0.9882353 ]\n",
      "  [0.96862745]\n",
      "  ...\n",
      "  [0.99215686]\n",
      "  [0.99215686]\n",
      "  [0.99215686]]\n",
      "\n",
      " [[0.9882353 ]\n",
      "  [0.9843137 ]\n",
      "  [0.972549  ]\n",
      "  ...\n",
      "  [0.99607843]\n",
      "  [0.99607843]\n",
      "  [0.99607843]]\n",
      "\n",
      " [[0.9843137 ]\n",
      "  [0.972549  ]\n",
      "  [0.99215686]\n",
      "  ...\n",
      "  [0.99607843]\n",
      "  [1.        ]\n",
      "  [1.        ]]\n",
      "\n",
      " ...\n",
      "\n",
      " [[0.11372549]\n",
      "  [0.09411765]\n",
      "  [0.13725491]\n",
      "  ...\n",
      "  [0.14509805]\n",
      "  [0.15686275]\n",
      "  [0.15686275]]\n",
      "\n",
      " [[0.14117648]\n",
      "  [0.09411765]\n",
      "  [0.10980392]\n",
      "  ...\n",
      "  [0.16078432]\n",
      "  [0.14901961]\n",
      "  [0.15294118]]\n",
      "\n",
      " [[0.14901961]\n",
      "  [0.09803922]\n",
      "  [0.11372549]\n",
      "  ...\n",
      "  [0.14901961]\n",
      "  [0.13725491]\n",
      "  [0.14117648]]]\n",
      "x_train shape: (148, 90, 90, 1)\n",
      "x_test shape: (67, 90, 90, 1)\n"
     ]
    }
   ],
   "source": [
    "im_rows=90\n",
    "im_cols=90\n",
    "im_shape=(im_rows, im_cols, 1)\n",
    "\n",
    "#change the size of images\n",
    "x_train = x_train.reshape(x_train.shape[0], *im_shape)\n",
    "x_test = x_test.reshape(x_test.shape[0], *im_shape)\n",
    "x_valid = x_valid.reshape(x_valid.shape[0], *im_shape)\n",
    "\n",
    "print(x_train[0])\n",
    "print('x_train shape: {}'.format(x_train.shape))\n",
    "print('x_test shape: {}'.format(x_test.shape))"
   ]
  },
  {
   "cell_type": "markdown",
   "metadata": {},
   "source": [
    "# Step 5\n",
    "\n",
    "\n",
    "Build CNN model:\n",
    " CNN have 3 main layer: \n",
    " * 1-Convolotional layer \n",
    " * 2- pooling layer  \n",
    " * 3- fully connected layer\n",
    " \n",
    " we could build a new architecture of CNN by changing the number and position of layers.\n",
    " "
   ]
  },
  {
   "cell_type": "code",
   "execution_count": 32,
   "metadata": {},
   "outputs": [],
   "source": [
    "\n",
    "#filters= the depth of output image or kernels\n",
    "output_num = 13\n",
    "\n",
    "cnn_model= Sequential([\n",
    "    Input(shape = im_shape),\n",
    "    Conv2D(filters=32, kernel_size=6, activation='relu'),\n",
    "    MaxPooling2D(pool_size=2),\n",
    "    Conv2D(filters=64, kernel_size=4, activation='relu'),\n",
    "    MaxPooling2D(pool_size=2),\n",
    "    Flatten(),\n",
    "    Dense(256, activation='relu'),\n",
    "    Dense(128, activation='relu'),\n",
    "    Dense(64, activation='relu'),\n",
    "    Dense(output_num, activation='softmax')\n",
    "])\n",
    "\n",
    "cnn_model.compile(\n",
    "    optimizer=\"adam\",\n",
    "    loss='sparse_categorical_crossentropy',\n",
    "    metrics=['accuracy']\n",
    ")"
   ]
  },
  {
   "cell_type": "markdown",
   "metadata": {},
   "source": [
    "Show the model's parameters."
   ]
  },
  {
   "cell_type": "code",
   "execution_count": 33,
   "metadata": {},
   "outputs": [
    {
     "data": {
      "text/html": [
       "<pre style=\"white-space:pre;overflow-x:auto;line-height:normal;font-family:Menlo,'DejaVu Sans Mono',consolas,'Courier New',monospace\"><span style=\"font-weight: bold\">Model: \"sequential_4\"</span>\n",
       "</pre>\n"
      ],
      "text/plain": [
       "\u001b[1mModel: \"sequential_4\"\u001b[0m\n"
      ]
     },
     "metadata": {},
     "output_type": "display_data"
    },
    {
     "data": {
      "text/html": [
       "<pre style=\"white-space:pre;overflow-x:auto;line-height:normal;font-family:Menlo,'DejaVu Sans Mono',consolas,'Courier New',monospace\">┏━━━━━━━━━━━━━━━━━━━━━━━━━━━━━━━━━┳━━━━━━━━━━━━━━━━━━━━━━━━┳━━━━━━━━━━━━━━━┓\n",
       "┃<span style=\"font-weight: bold\"> Layer (type)                    </span>┃<span style=\"font-weight: bold\"> Output Shape           </span>┃<span style=\"font-weight: bold\">       Param # </span>┃\n",
       "┡━━━━━━━━━━━━━━━━━━━━━━━━━━━━━━━━━╇━━━━━━━━━━━━━━━━━━━━━━━━╇━━━━━━━━━━━━━━━┩\n",
       "│ conv2d_8 (<span style=\"color: #0087ff; text-decoration-color: #0087ff\">Conv2D</span>)               │ (<span style=\"color: #00d7ff; text-decoration-color: #00d7ff\">None</span>, <span style=\"color: #00af00; text-decoration-color: #00af00\">85</span>, <span style=\"color: #00af00; text-decoration-color: #00af00\">85</span>, <span style=\"color: #00af00; text-decoration-color: #00af00\">32</span>)     │         <span style=\"color: #00af00; text-decoration-color: #00af00\">1,184</span> │\n",
       "├─────────────────────────────────┼────────────────────────┼───────────────┤\n",
       "│ max_pooling2d_8 (<span style=\"color: #0087ff; text-decoration-color: #0087ff\">MaxPooling2D</span>)  │ (<span style=\"color: #00d7ff; text-decoration-color: #00d7ff\">None</span>, <span style=\"color: #00af00; text-decoration-color: #00af00\">42</span>, <span style=\"color: #00af00; text-decoration-color: #00af00\">42</span>, <span style=\"color: #00af00; text-decoration-color: #00af00\">32</span>)     │             <span style=\"color: #00af00; text-decoration-color: #00af00\">0</span> │\n",
       "├─────────────────────────────────┼────────────────────────┼───────────────┤\n",
       "│ conv2d_9 (<span style=\"color: #0087ff; text-decoration-color: #0087ff\">Conv2D</span>)               │ (<span style=\"color: #00d7ff; text-decoration-color: #00d7ff\">None</span>, <span style=\"color: #00af00; text-decoration-color: #00af00\">39</span>, <span style=\"color: #00af00; text-decoration-color: #00af00\">39</span>, <span style=\"color: #00af00; text-decoration-color: #00af00\">64</span>)     │        <span style=\"color: #00af00; text-decoration-color: #00af00\">32,832</span> │\n",
       "├─────────────────────────────────┼────────────────────────┼───────────────┤\n",
       "│ max_pooling2d_9 (<span style=\"color: #0087ff; text-decoration-color: #0087ff\">MaxPooling2D</span>)  │ (<span style=\"color: #00d7ff; text-decoration-color: #00d7ff\">None</span>, <span style=\"color: #00af00; text-decoration-color: #00af00\">19</span>, <span style=\"color: #00af00; text-decoration-color: #00af00\">19</span>, <span style=\"color: #00af00; text-decoration-color: #00af00\">64</span>)     │             <span style=\"color: #00af00; text-decoration-color: #00af00\">0</span> │\n",
       "├─────────────────────────────────┼────────────────────────┼───────────────┤\n",
       "│ flatten_4 (<span style=\"color: #0087ff; text-decoration-color: #0087ff\">Flatten</span>)             │ (<span style=\"color: #00d7ff; text-decoration-color: #00d7ff\">None</span>, <span style=\"color: #00af00; text-decoration-color: #00af00\">23104</span>)          │             <span style=\"color: #00af00; text-decoration-color: #00af00\">0</span> │\n",
       "├─────────────────────────────────┼────────────────────────┼───────────────┤\n",
       "│ dense_16 (<span style=\"color: #0087ff; text-decoration-color: #0087ff\">Dense</span>)                │ (<span style=\"color: #00d7ff; text-decoration-color: #00d7ff\">None</span>, <span style=\"color: #00af00; text-decoration-color: #00af00\">256</span>)            │     <span style=\"color: #00af00; text-decoration-color: #00af00\">5,914,880</span> │\n",
       "├─────────────────────────────────┼────────────────────────┼───────────────┤\n",
       "│ dense_17 (<span style=\"color: #0087ff; text-decoration-color: #0087ff\">Dense</span>)                │ (<span style=\"color: #00d7ff; text-decoration-color: #00d7ff\">None</span>, <span style=\"color: #00af00; text-decoration-color: #00af00\">128</span>)            │        <span style=\"color: #00af00; text-decoration-color: #00af00\">32,896</span> │\n",
       "├─────────────────────────────────┼────────────────────────┼───────────────┤\n",
       "│ dense_18 (<span style=\"color: #0087ff; text-decoration-color: #0087ff\">Dense</span>)                │ (<span style=\"color: #00d7ff; text-decoration-color: #00d7ff\">None</span>, <span style=\"color: #00af00; text-decoration-color: #00af00\">64</span>)             │         <span style=\"color: #00af00; text-decoration-color: #00af00\">8,256</span> │\n",
       "├─────────────────────────────────┼────────────────────────┼───────────────┤\n",
       "│ dense_19 (<span style=\"color: #0087ff; text-decoration-color: #0087ff\">Dense</span>)                │ (<span style=\"color: #00d7ff; text-decoration-color: #00d7ff\">None</span>, <span style=\"color: #00af00; text-decoration-color: #00af00\">13</span>)             │           <span style=\"color: #00af00; text-decoration-color: #00af00\">845</span> │\n",
       "└─────────────────────────────────┴────────────────────────┴───────────────┘\n",
       "</pre>\n"
      ],
      "text/plain": [
       "┏━━━━━━━━━━━━━━━━━━━━━━━━━━━━━━━━━┳━━━━━━━━━━━━━━━━━━━━━━━━┳━━━━━━━━━━━━━━━┓\n",
       "┃\u001b[1m \u001b[0m\u001b[1mLayer (type)                   \u001b[0m\u001b[1m \u001b[0m┃\u001b[1m \u001b[0m\u001b[1mOutput Shape          \u001b[0m\u001b[1m \u001b[0m┃\u001b[1m \u001b[0m\u001b[1m      Param #\u001b[0m\u001b[1m \u001b[0m┃\n",
       "┡━━━━━━━━━━━━━━━━━━━━━━━━━━━━━━━━━╇━━━━━━━━━━━━━━━━━━━━━━━━╇━━━━━━━━━━━━━━━┩\n",
       "│ conv2d_8 (\u001b[38;5;33mConv2D\u001b[0m)               │ (\u001b[38;5;45mNone\u001b[0m, \u001b[38;5;34m85\u001b[0m, \u001b[38;5;34m85\u001b[0m, \u001b[38;5;34m32\u001b[0m)     │         \u001b[38;5;34m1,184\u001b[0m │\n",
       "├─────────────────────────────────┼────────────────────────┼───────────────┤\n",
       "│ max_pooling2d_8 (\u001b[38;5;33mMaxPooling2D\u001b[0m)  │ (\u001b[38;5;45mNone\u001b[0m, \u001b[38;5;34m42\u001b[0m, \u001b[38;5;34m42\u001b[0m, \u001b[38;5;34m32\u001b[0m)     │             \u001b[38;5;34m0\u001b[0m │\n",
       "├─────────────────────────────────┼────────────────────────┼───────────────┤\n",
       "│ conv2d_9 (\u001b[38;5;33mConv2D\u001b[0m)               │ (\u001b[38;5;45mNone\u001b[0m, \u001b[38;5;34m39\u001b[0m, \u001b[38;5;34m39\u001b[0m, \u001b[38;5;34m64\u001b[0m)     │        \u001b[38;5;34m32,832\u001b[0m │\n",
       "├─────────────────────────────────┼────────────────────────┼───────────────┤\n",
       "│ max_pooling2d_9 (\u001b[38;5;33mMaxPooling2D\u001b[0m)  │ (\u001b[38;5;45mNone\u001b[0m, \u001b[38;5;34m19\u001b[0m, \u001b[38;5;34m19\u001b[0m, \u001b[38;5;34m64\u001b[0m)     │             \u001b[38;5;34m0\u001b[0m │\n",
       "├─────────────────────────────────┼────────────────────────┼───────────────┤\n",
       "│ flatten_4 (\u001b[38;5;33mFlatten\u001b[0m)             │ (\u001b[38;5;45mNone\u001b[0m, \u001b[38;5;34m23104\u001b[0m)          │             \u001b[38;5;34m0\u001b[0m │\n",
       "├─────────────────────────────────┼────────────────────────┼───────────────┤\n",
       "│ dense_16 (\u001b[38;5;33mDense\u001b[0m)                │ (\u001b[38;5;45mNone\u001b[0m, \u001b[38;5;34m256\u001b[0m)            │     \u001b[38;5;34m5,914,880\u001b[0m │\n",
       "├─────────────────────────────────┼────────────────────────┼───────────────┤\n",
       "│ dense_17 (\u001b[38;5;33mDense\u001b[0m)                │ (\u001b[38;5;45mNone\u001b[0m, \u001b[38;5;34m128\u001b[0m)            │        \u001b[38;5;34m32,896\u001b[0m │\n",
       "├─────────────────────────────────┼────────────────────────┼───────────────┤\n",
       "│ dense_18 (\u001b[38;5;33mDense\u001b[0m)                │ (\u001b[38;5;45mNone\u001b[0m, \u001b[38;5;34m64\u001b[0m)             │         \u001b[38;5;34m8,256\u001b[0m │\n",
       "├─────────────────────────────────┼────────────────────────┼───────────────┤\n",
       "│ dense_19 (\u001b[38;5;33mDense\u001b[0m)                │ (\u001b[38;5;45mNone\u001b[0m, \u001b[38;5;34m13\u001b[0m)             │           \u001b[38;5;34m845\u001b[0m │\n",
       "└─────────────────────────────────┴────────────────────────┴───────────────┘\n"
      ]
     },
     "metadata": {},
     "output_type": "display_data"
    },
    {
     "data": {
      "text/html": [
       "<pre style=\"white-space:pre;overflow-x:auto;line-height:normal;font-family:Menlo,'DejaVu Sans Mono',consolas,'Courier New',monospace\"><span style=\"font-weight: bold\"> Total params: </span><span style=\"color: #00af00; text-decoration-color: #00af00\">5,990,893</span> (22.85 MB)\n",
       "</pre>\n"
      ],
      "text/plain": [
       "\u001b[1m Total params: \u001b[0m\u001b[38;5;34m5,990,893\u001b[0m (22.85 MB)\n"
      ]
     },
     "metadata": {},
     "output_type": "display_data"
    },
    {
     "data": {
      "text/html": [
       "<pre style=\"white-space:pre;overflow-x:auto;line-height:normal;font-family:Menlo,'DejaVu Sans Mono',consolas,'Courier New',monospace\"><span style=\"font-weight: bold\"> Trainable params: </span><span style=\"color: #00af00; text-decoration-color: #00af00\">5,990,893</span> (22.85 MB)\n",
       "</pre>\n"
      ],
      "text/plain": [
       "\u001b[1m Trainable params: \u001b[0m\u001b[38;5;34m5,990,893\u001b[0m (22.85 MB)\n"
      ]
     },
     "metadata": {},
     "output_type": "display_data"
    },
    {
     "data": {
      "text/html": [
       "<pre style=\"white-space:pre;overflow-x:auto;line-height:normal;font-family:Menlo,'DejaVu Sans Mono',consolas,'Courier New',monospace\"><span style=\"font-weight: bold\"> Non-trainable params: </span><span style=\"color: #00af00; text-decoration-color: #00af00\">0</span> (0.00 B)\n",
       "</pre>\n"
      ],
      "text/plain": [
       "\u001b[1m Non-trainable params: \u001b[0m\u001b[38;5;34m0\u001b[0m (0.00 B)\n"
      ]
     },
     "metadata": {},
     "output_type": "display_data"
    }
   ],
   "source": [
    "cnn_model.summary()"
   ]
  },
  {
   "cell_type": "markdown",
   "metadata": {},
   "source": [
    "# Step 6\n",
    "\n",
    "Train the Model\n",
    "\n",
    "* Note: You can change the number of epochs\n"
   ]
  },
  {
   "cell_type": "code",
   "execution_count": 34,
   "metadata": {},
   "outputs": [
    {
     "name": "stdout",
     "output_type": "stream",
     "text": [
      "Epoch 1/100\n",
      "3/3 - 2s - 543ms/step - accuracy: 0.0878 - loss: 2.6280 - val_accuracy: 0.0000e+00 - val_loss: 2.6499\n",
      "Epoch 2/100\n",
      "3/3 - 0s - 108ms/step - accuracy: 0.1689 - loss: 2.4951 - val_accuracy: 0.0000e+00 - val_loss: 2.6649\n",
      "Epoch 3/100\n",
      "3/3 - 0s - 111ms/step - accuracy: 0.1149 - loss: 2.4019 - val_accuracy: 0.0000e+00 - val_loss: 2.6586\n",
      "Epoch 4/100\n",
      "3/3 - 0s - 112ms/step - accuracy: 0.2500 - loss: 2.2465 - val_accuracy: 0.0000e+00 - val_loss: 2.6697\n",
      "Epoch 5/100\n",
      "3/3 - 0s - 109ms/step - accuracy: 0.3649 - loss: 1.9622 - val_accuracy: 0.2500 - val_loss: 2.3502\n",
      "Epoch 6/100\n",
      "3/3 - 0s - 110ms/step - accuracy: 0.6689 - loss: 1.5598 - val_accuracy: 0.0000e+00 - val_loss: 2.2624\n",
      "Epoch 7/100\n",
      "3/3 - 0s - 111ms/step - accuracy: 0.6419 - loss: 1.1954 - val_accuracy: 0.5000 - val_loss: 1.6150\n",
      "Epoch 8/100\n",
      "3/3 - 0s - 110ms/step - accuracy: 0.7500 - loss: 0.8336 - val_accuracy: 0.3750 - val_loss: 1.5994\n",
      "Epoch 9/100\n",
      "3/3 - 0s - 110ms/step - accuracy: 0.8446 - loss: 0.5204 - val_accuracy: 0.7500 - val_loss: 0.6612\n",
      "Epoch 10/100\n",
      "3/3 - 0s - 112ms/step - accuracy: 0.9257 - loss: 0.3895 - val_accuracy: 0.8750 - val_loss: 0.4253\n",
      "Epoch 11/100\n",
      "3/3 - 0s - 112ms/step - accuracy: 0.9459 - loss: 0.2115 - val_accuracy: 0.5000 - val_loss: 1.5118\n",
      "Epoch 12/100\n",
      "3/3 - 0s - 110ms/step - accuracy: 0.9595 - loss: 0.1500 - val_accuracy: 0.7500 - val_loss: 0.4869\n",
      "Epoch 13/100\n",
      "3/3 - 0s - 112ms/step - accuracy: 0.9662 - loss: 0.1325 - val_accuracy: 0.6250 - val_loss: 0.8131\n",
      "Epoch 14/100\n",
      "3/3 - 0s - 110ms/step - accuracy: 0.9662 - loss: 0.1300 - val_accuracy: 0.7500 - val_loss: 0.6965\n",
      "Epoch 15/100\n",
      "3/3 - 0s - 106ms/step - accuracy: 0.9865 - loss: 0.0405 - val_accuracy: 1.0000 - val_loss: 0.1307\n",
      "Epoch 16/100\n",
      "3/3 - 0s - 112ms/step - accuracy: 0.9932 - loss: 0.0568 - val_accuracy: 1.0000 - val_loss: 0.1837\n",
      "Epoch 17/100\n",
      "3/3 - 0s - 107ms/step - accuracy: 1.0000 - loss: 0.0182 - val_accuracy: 0.6250 - val_loss: 1.0693\n",
      "Epoch 18/100\n",
      "3/3 - 0s - 108ms/step - accuracy: 1.0000 - loss: 0.0136 - val_accuracy: 0.6250 - val_loss: 1.9311\n",
      "Epoch 19/100\n",
      "3/3 - 0s - 117ms/step - accuracy: 1.0000 - loss: 0.0160 - val_accuracy: 0.7500 - val_loss: 1.0264\n",
      "Epoch 20/100\n",
      "3/3 - 0s - 109ms/step - accuracy: 1.0000 - loss: 0.0071 - val_accuracy: 0.7500 - val_loss: 0.4336\n",
      "Epoch 21/100\n",
      "3/3 - 0s - 112ms/step - accuracy: 1.0000 - loss: 0.0092 - val_accuracy: 0.8750 - val_loss: 0.2200\n",
      "Epoch 22/100\n",
      "3/3 - 0s - 112ms/step - accuracy: 1.0000 - loss: 0.0057 - val_accuracy: 0.8750 - val_loss: 0.2880\n",
      "Epoch 23/100\n",
      "3/3 - 0s - 113ms/step - accuracy: 1.0000 - loss: 0.0064 - val_accuracy: 1.0000 - val_loss: 0.1201\n",
      "Epoch 24/100\n",
      "3/3 - 0s - 109ms/step - accuracy: 1.0000 - loss: 0.0017 - val_accuracy: 1.0000 - val_loss: 0.0235\n",
      "Epoch 25/100\n",
      "3/3 - 0s - 109ms/step - accuracy: 1.0000 - loss: 0.0019 - val_accuracy: 1.0000 - val_loss: 0.0188\n",
      "Epoch 26/100\n",
      "3/3 - 0s - 112ms/step - accuracy: 1.0000 - loss: 0.0023 - val_accuracy: 1.0000 - val_loss: 0.0195\n",
      "Epoch 27/100\n",
      "3/3 - 0s - 109ms/step - accuracy: 1.0000 - loss: 0.0011 - val_accuracy: 1.0000 - val_loss: 0.0343\n",
      "Epoch 28/100\n",
      "3/3 - 0s - 110ms/step - accuracy: 1.0000 - loss: 5.3274e-04 - val_accuracy: 1.0000 - val_loss: 0.0781\n",
      "Epoch 29/100\n",
      "3/3 - 0s - 108ms/step - accuracy: 1.0000 - loss: 5.2533e-04 - val_accuracy: 1.0000 - val_loss: 0.1365\n",
      "Epoch 30/100\n",
      "3/3 - 0s - 109ms/step - accuracy: 1.0000 - loss: 6.5564e-04 - val_accuracy: 1.0000 - val_loss: 0.1642\n",
      "Epoch 31/100\n",
      "3/3 - 0s - 110ms/step - accuracy: 1.0000 - loss: 5.4306e-04 - val_accuracy: 1.0000 - val_loss: 0.1441\n",
      "Epoch 32/100\n",
      "3/3 - 0s - 107ms/step - accuracy: 1.0000 - loss: 4.5125e-04 - val_accuracy: 1.0000 - val_loss: 0.1152\n",
      "Epoch 33/100\n",
      "3/3 - 0s - 109ms/step - accuracy: 1.0000 - loss: 3.0757e-04 - val_accuracy: 1.0000 - val_loss: 0.0891\n",
      "Epoch 34/100\n",
      "3/3 - 0s - 107ms/step - accuracy: 1.0000 - loss: 2.6609e-04 - val_accuracy: 1.0000 - val_loss: 0.0713\n",
      "Epoch 35/100\n",
      "3/3 - 0s - 110ms/step - accuracy: 1.0000 - loss: 2.4255e-04 - val_accuracy: 1.0000 - val_loss: 0.0579\n",
      "Epoch 36/100\n",
      "3/3 - 0s - 109ms/step - accuracy: 1.0000 - loss: 2.4076e-04 - val_accuracy: 1.0000 - val_loss: 0.0489\n",
      "Epoch 37/100\n",
      "3/3 - 0s - 106ms/step - accuracy: 1.0000 - loss: 2.1266e-04 - val_accuracy: 1.0000 - val_loss: 0.0430\n",
      "Epoch 38/100\n",
      "3/3 - 0s - 111ms/step - accuracy: 1.0000 - loss: 2.3369e-04 - val_accuracy: 1.0000 - val_loss: 0.0389\n",
      "Epoch 39/100\n",
      "3/3 - 0s - 107ms/step - accuracy: 1.0000 - loss: 1.8485e-04 - val_accuracy: 1.0000 - val_loss: 0.0363\n",
      "Epoch 40/100\n",
      "3/3 - 0s - 107ms/step - accuracy: 1.0000 - loss: 1.8513e-04 - val_accuracy: 1.0000 - val_loss: 0.0353\n",
      "Epoch 41/100\n",
      "3/3 - 0s - 111ms/step - accuracy: 1.0000 - loss: 2.0608e-04 - val_accuracy: 1.0000 - val_loss: 0.0358\n",
      "Epoch 42/100\n",
      "3/3 - 0s - 109ms/step - accuracy: 1.0000 - loss: 2.0042e-04 - val_accuracy: 1.0000 - val_loss: 0.0377\n",
      "Epoch 43/100\n",
      "3/3 - 0s - 108ms/step - accuracy: 1.0000 - loss: 1.7222e-04 - val_accuracy: 1.0000 - val_loss: 0.0401\n",
      "Epoch 44/100\n",
      "3/3 - 0s - 115ms/step - accuracy: 1.0000 - loss: 1.5942e-04 - val_accuracy: 1.0000 - val_loss: 0.0427\n",
      "Epoch 45/100\n",
      "3/3 - 0s - 106ms/step - accuracy: 1.0000 - loss: 1.7374e-04 - val_accuracy: 1.0000 - val_loss: 0.0446\n",
      "Epoch 46/100\n",
      "3/3 - 0s - 110ms/step - accuracy: 1.0000 - loss: 1.6509e-04 - val_accuracy: 1.0000 - val_loss: 0.0469\n",
      "Epoch 47/100\n",
      "3/3 - 0s - 108ms/step - accuracy: 1.0000 - loss: 1.6435e-04 - val_accuracy: 1.0000 - val_loss: 0.0487\n",
      "Epoch 48/100\n",
      "3/3 - 0s - 107ms/step - accuracy: 1.0000 - loss: 1.4641e-04 - val_accuracy: 1.0000 - val_loss: 0.0496\n",
      "Epoch 49/100\n",
      "3/3 - 0s - 115ms/step - accuracy: 1.0000 - loss: 1.4747e-04 - val_accuracy: 1.0000 - val_loss: 0.0506\n",
      "Epoch 50/100\n",
      "3/3 - 0s - 107ms/step - accuracy: 1.0000 - loss: 1.5460e-04 - val_accuracy: 1.0000 - val_loss: 0.0515\n",
      "Epoch 51/100\n",
      "3/3 - 0s - 110ms/step - accuracy: 1.0000 - loss: 1.5128e-04 - val_accuracy: 1.0000 - val_loss: 0.0522\n",
      "Epoch 52/100\n",
      "3/3 - 0s - 107ms/step - accuracy: 1.0000 - loss: 1.4047e-04 - val_accuracy: 1.0000 - val_loss: 0.0534\n",
      "Epoch 53/100\n",
      "3/3 - 0s - 110ms/step - accuracy: 1.0000 - loss: 1.4073e-04 - val_accuracy: 1.0000 - val_loss: 0.0545\n",
      "Epoch 54/100\n",
      "3/3 - 0s - 108ms/step - accuracy: 1.0000 - loss: 1.5073e-04 - val_accuracy: 1.0000 - val_loss: 0.0557\n",
      "Epoch 55/100\n",
      "3/3 - 0s - 107ms/step - accuracy: 1.0000 - loss: 1.4389e-04 - val_accuracy: 1.0000 - val_loss: 0.0564\n",
      "Epoch 56/100\n",
      "3/3 - 0s - 108ms/step - accuracy: 1.0000 - loss: 1.2979e-04 - val_accuracy: 1.0000 - val_loss: 0.0574\n",
      "Epoch 57/100\n",
      "3/3 - 0s - 106ms/step - accuracy: 1.0000 - loss: 1.1650e-04 - val_accuracy: 1.0000 - val_loss: 0.0586\n",
      "Epoch 58/100\n",
      "3/3 - 0s - 109ms/step - accuracy: 1.0000 - loss: 1.1703e-04 - val_accuracy: 1.0000 - val_loss: 0.0586\n",
      "Epoch 59/100\n",
      "3/3 - 0s - 107ms/step - accuracy: 1.0000 - loss: 1.3781e-04 - val_accuracy: 1.0000 - val_loss: 0.0588\n",
      "Epoch 60/100\n",
      "3/3 - 0s - 110ms/step - accuracy: 1.0000 - loss: 1.2087e-04 - val_accuracy: 1.0000 - val_loss: 0.0587\n",
      "Epoch 61/100\n",
      "3/3 - 0s - 106ms/step - accuracy: 1.0000 - loss: 1.1533e-04 - val_accuracy: 1.0000 - val_loss: 0.0585\n",
      "Epoch 62/100\n",
      "3/3 - 0s - 108ms/step - accuracy: 1.0000 - loss: 1.1703e-04 - val_accuracy: 1.0000 - val_loss: 0.0580\n",
      "Epoch 63/100\n",
      "3/3 - 0s - 112ms/step - accuracy: 1.0000 - loss: 1.1799e-04 - val_accuracy: 1.0000 - val_loss: 0.0567\n",
      "Epoch 64/100\n",
      "3/3 - 0s - 106ms/step - accuracy: 1.0000 - loss: 1.1463e-04 - val_accuracy: 1.0000 - val_loss: 0.0560\n",
      "Epoch 65/100\n",
      "3/3 - 0s - 107ms/step - accuracy: 1.0000 - loss: 1.0856e-04 - val_accuracy: 1.0000 - val_loss: 0.0543\n",
      "Epoch 66/100\n",
      "3/3 - 0s - 108ms/step - accuracy: 1.0000 - loss: 1.0647e-04 - val_accuracy: 1.0000 - val_loss: 0.0530\n",
      "Epoch 67/100\n",
      "3/3 - 0s - 108ms/step - accuracy: 1.0000 - loss: 1.1271e-04 - val_accuracy: 1.0000 - val_loss: 0.0517\n",
      "Epoch 68/100\n",
      "3/3 - 0s - 107ms/step - accuracy: 1.0000 - loss: 1.0374e-04 - val_accuracy: 1.0000 - val_loss: 0.0506\n",
      "Epoch 69/100\n",
      "3/3 - 0s - 113ms/step - accuracy: 1.0000 - loss: 9.1321e-05 - val_accuracy: 1.0000 - val_loss: 0.0498\n",
      "Epoch 70/100\n",
      "3/3 - 0s - 112ms/step - accuracy: 1.0000 - loss: 9.3494e-05 - val_accuracy: 1.0000 - val_loss: 0.0495\n",
      "Epoch 71/100\n",
      "3/3 - 0s - 112ms/step - accuracy: 1.0000 - loss: 8.7223e-05 - val_accuracy: 1.0000 - val_loss: 0.0494\n",
      "Epoch 72/100\n",
      "3/3 - 0s - 109ms/step - accuracy: 1.0000 - loss: 1.0069e-04 - val_accuracy: 1.0000 - val_loss: 0.0494\n",
      "Epoch 73/100\n",
      "3/3 - 0s - 109ms/step - accuracy: 1.0000 - loss: 8.4504e-05 - val_accuracy: 1.0000 - val_loss: 0.0494\n",
      "Epoch 74/100\n",
      "3/3 - 0s - 115ms/step - accuracy: 1.0000 - loss: 8.3633e-05 - val_accuracy: 1.0000 - val_loss: 0.0491\n",
      "Epoch 75/100\n",
      "3/3 - 0s - 114ms/step - accuracy: 1.0000 - loss: 8.6369e-05 - val_accuracy: 1.0000 - val_loss: 0.0494\n",
      "Epoch 76/100\n",
      "3/3 - 0s - 109ms/step - accuracy: 1.0000 - loss: 8.5873e-05 - val_accuracy: 1.0000 - val_loss: 0.0502\n",
      "Epoch 77/100\n",
      "3/3 - 0s - 108ms/step - accuracy: 1.0000 - loss: 9.4879e-05 - val_accuracy: 1.0000 - val_loss: 0.0507\n",
      "Epoch 78/100\n",
      "3/3 - 0s - 112ms/step - accuracy: 1.0000 - loss: 8.2970e-05 - val_accuracy: 1.0000 - val_loss: 0.0503\n",
      "Epoch 79/100\n",
      "3/3 - 0s - 113ms/step - accuracy: 1.0000 - loss: 9.3338e-05 - val_accuracy: 1.0000 - val_loss: 0.0501\n",
      "Epoch 80/100\n",
      "3/3 - 0s - 111ms/step - accuracy: 1.0000 - loss: 7.6777e-05 - val_accuracy: 1.0000 - val_loss: 0.0505\n",
      "Epoch 81/100\n",
      "3/3 - 0s - 110ms/step - accuracy: 1.0000 - loss: 8.9376e-05 - val_accuracy: 1.0000 - val_loss: 0.0511\n",
      "Epoch 82/100\n",
      "3/3 - 0s - 113ms/step - accuracy: 1.0000 - loss: 8.0238e-05 - val_accuracy: 1.0000 - val_loss: 0.0520\n",
      "Epoch 83/100\n",
      "3/3 - 0s - 110ms/step - accuracy: 1.0000 - loss: 8.6047e-05 - val_accuracy: 1.0000 - val_loss: 0.0521\n",
      "Epoch 84/100\n",
      "3/3 - 0s - 112ms/step - accuracy: 1.0000 - loss: 8.2645e-05 - val_accuracy: 1.0000 - val_loss: 0.0518\n",
      "Epoch 85/100\n",
      "3/3 - 0s - 110ms/step - accuracy: 1.0000 - loss: 7.1975e-05 - val_accuracy: 1.0000 - val_loss: 0.0507\n",
      "Epoch 86/100\n",
      "3/3 - 0s - 113ms/step - accuracy: 1.0000 - loss: 7.6670e-05 - val_accuracy: 1.0000 - val_loss: 0.0492\n",
      "Epoch 87/100\n",
      "3/3 - 0s - 114ms/step - accuracy: 1.0000 - loss: 7.3902e-05 - val_accuracy: 1.0000 - val_loss: 0.0470\n",
      "Epoch 88/100\n",
      "3/3 - 0s - 113ms/step - accuracy: 1.0000 - loss: 7.0685e-05 - val_accuracy: 1.0000 - val_loss: 0.0451\n",
      "Epoch 89/100\n",
      "3/3 - 0s - 110ms/step - accuracy: 1.0000 - loss: 7.3007e-05 - val_accuracy: 1.0000 - val_loss: 0.0435\n",
      "Epoch 90/100\n",
      "3/3 - 0s - 112ms/step - accuracy: 1.0000 - loss: 7.9589e-05 - val_accuracy: 1.0000 - val_loss: 0.0425\n",
      "Epoch 91/100\n",
      "3/3 - 0s - 109ms/step - accuracy: 1.0000 - loss: 6.9471e-05 - val_accuracy: 1.0000 - val_loss: 0.0416\n",
      "Epoch 92/100\n",
      "3/3 - 0s - 110ms/step - accuracy: 1.0000 - loss: 6.2103e-05 - val_accuracy: 1.0000 - val_loss: 0.0408\n",
      "Epoch 93/100\n",
      "3/3 - 0s - 110ms/step - accuracy: 1.0000 - loss: 6.4558e-05 - val_accuracy: 1.0000 - val_loss: 0.0404\n",
      "Epoch 94/100\n",
      "3/3 - 0s - 111ms/step - accuracy: 1.0000 - loss: 6.4324e-05 - val_accuracy: 1.0000 - val_loss: 0.0398\n",
      "Epoch 95/100\n",
      "3/3 - 0s - 108ms/step - accuracy: 1.0000 - loss: 6.7059e-05 - val_accuracy: 1.0000 - val_loss: 0.0394\n",
      "Epoch 96/100\n",
      "3/3 - 0s - 111ms/step - accuracy: 1.0000 - loss: 7.2800e-05 - val_accuracy: 1.0000 - val_loss: 0.0396\n",
      "Epoch 97/100\n",
      "3/3 - 0s - 113ms/step - accuracy: 1.0000 - loss: 6.0058e-05 - val_accuracy: 1.0000 - val_loss: 0.0403\n",
      "Epoch 98/100\n",
      "3/3 - 0s - 110ms/step - accuracy: 1.0000 - loss: 6.2206e-05 - val_accuracy: 1.0000 - val_loss: 0.0407\n",
      "Epoch 99/100\n",
      "3/3 - 0s - 113ms/step - accuracy: 1.0000 - loss: 5.9456e-05 - val_accuracy: 1.0000 - val_loss: 0.0405\n",
      "Epoch 100/100\n",
      "3/3 - 0s - 111ms/step - accuracy: 1.0000 - loss: 6.5577e-05 - val_accuracy: 1.0000 - val_loss: 0.0400\n"
     ]
    }
   ],
   "source": [
    "history=cnn_model.fit(\n",
    "    x_train, \n",
    "    y_train, \n",
    "    batch_size=64,\n",
    "    epochs=100, \n",
    "    verbose=2,\n",
    "    validation_data=(x_valid,y_valid),\n",
    ")"
   ]
  },
  {
   "cell_type": "markdown",
   "metadata": {},
   "source": [
    "Evaluate the test data\n"
   ]
  },
  {
   "cell_type": "code",
   "execution_count": 35,
   "metadata": {},
   "outputs": [
    {
     "name": "stdout",
     "output_type": "stream",
     "text": [
      "test los 0.3318\n",
      "test acc 0.8955\n"
     ]
    }
   ],
   "source": [
    "scor = cnn_model.evaluate( np.array(x_test),  np.array(y_test), verbose=0)\n",
    "cnn_model.save('models/cnn.keras')\n",
    "\n",
    "print('test los {:.4f}'.format(scor[0]))\n",
    "print('test acc {:.4f}'.format(scor[1]))"
   ]
  },
  {
   "cell_type": "markdown",
   "metadata": {},
   "source": [
    "# Step 7 \n",
    "\n",
    "plot the result"
   ]
  },
  {
   "cell_type": "code",
   "execution_count": 36,
   "metadata": {},
   "outputs": [
    {
     "name": "stdout",
     "output_type": "stream",
     "text": [
      "dict_keys(['accuracy', 'loss', 'val_accuracy', 'val_loss'])\n"
     ]
    },
    {
     "data": {
      "image/png": "[encoded data removed]",
      "text/plain": [
       "<Figure size 640x480 with 1 Axes>"
      ]
     },
     "metadata": {},
     "output_type": "display_data"
    },
    {
     "data": {
      "image/png": "[encoded data removed]",
      "text/plain": [
       "<Figure size 640x480 with 1 Axes>"
      ]
     },
     "metadata": {},
     "output_type": "display_data"
    }
   ],
   "source": [
    "# list all data in history\n",
    "print(history.history.keys())\n",
    "# summarize history for accuracy\n",
    "plt.plot(history.history['accuracy'])\n",
    "plt.plot(history.history['val_accuracy'])\n",
    "plt.title('model accuracy')\n",
    "plt.ylabel('accuracy')\n",
    "plt.xlabel('epoch')\n",
    "plt.legend(['train', 'test'], loc='upper left')\n",
    "plt.show()\n",
    "# summarize history for loss\n",
    "plt.plot(history.history['loss'])\n",
    "plt.plot(history.history['val_loss'])\n",
    "plt.title('model loss')\n",
    "plt.ylabel('loss')\n",
    "plt.xlabel('epoch')\n",
    "plt.legend(['train', 'test'], loc='upper left')\n",
    "plt.show()"
   ]
  }
 ],
 "metadata": {
  "kernelspec": {
   "display_name": "Python 3",
   "language": "python",
   "name": "python3"
  },
  "language_info": {
   "codemirror_mode": {
    "name": "ipython",
    "version": 3
   },
   "file_extension": ".py",
   "mimetype": "text/x-python",
   "name": "python",
   "nbconvert_exporter": "python",
   "pygments_lexer": "ipython3",
   "version": "3.12.2"
  }
 },
 "nbformat": 4,
 "nbformat_minor": 2
}
