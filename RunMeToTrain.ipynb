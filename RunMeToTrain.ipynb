{
 "cells": [
  {
   "cell_type": "markdown",
   "metadata": {},
   "source": [
    "# Face Recognition using CNN"
   ]
  },
  {
   "cell_type": "markdown",
   "metadata": {},
   "source": [
    " # Step1:\n",
    " \n",
    "At the first, you should input the required libraries:"
   ]
  },
  {
   "cell_type": "code",
   "execution_count": 49,
   "metadata": {},
   "outputs": [],
   "source": [
    "import keras\n",
    "from keras.models import Sequential\n",
    "from keras.layers import Conv2D, MaxPooling2D, Dense, Flatten, Input, Dropout\n",
    "import tensorflow as tf\n",
    "\n",
    "import numpy as np\n",
    "import matplotlib.pyplot as plt\n",
    "from sklearn.model_selection import train_test_split"
   ]
  },
  {
   "cell_type": "markdown",
   "metadata": {},
   "source": [
    "# Step2:\n",
    "\n",
    "* Load Dataset :\n",
    "\n",
    "After loading the Dataset you have to normalize every image."
   ]
  },
  {
   "cell_type": "code",
   "execution_count": 50,
   "metadata": {},
   "outputs": [
    {
     "name": "stdout",
     "output_type": "stream",
     "text": [
      "x_train : [[0.972549   0.96862745 0.73333335 ... 0.79607844 0.78431374 0.80784315]\n",
      " [0.32156864 0.28627452 0.2784314  ... 0.8392157  0.84313726 0.84313726]\n",
      " [0.22352941 0.23529412 0.16078432 ... 0.24313726 0.26666668 0.26666668]\n",
      " ...\n",
      " [1.         0.99215686 1.         ... 0.16862746 0.14901961 0.15294118]\n",
      " [0.2627451  0.2784314  0.26666668 ... 0.2627451  0.2627451  0.27450982]\n",
      " [1.         0.9882353  1.         ... 0.07450981 0.08235294 0.08235294]]\n",
      "y_train : [4 1 5 2 0 2 2 5 2 1 2 4 0 5 2 4 3 4 3 1 1 3 5 4 5 1 0 0 1 1 1 3 4 2 0 4 2\n",
      " 0 5 3 1 3 3 2 0 5 0 1 5 3 4 0 0 1 0 0 0 0 4 5 2 2 3 5 4 4 3 5 5 2 2 1 1 3\n",
      " 1 1 5 3 2 5 3]\n",
      "y_train shape: (81,)\n",
      "x_train shape: (81, 8100)\n"
     ]
    }
   ],
   "source": [
    "#load dataset\n",
    "x_data = np.load(\"trainset/train_x.npy\")\n",
    "y_data = np.load(\"trainset/train_y.npy\")\n",
    "\n",
    "\n",
    "#normalize every image\n",
    "x_data= np.array(x_data,dtype='float32')/255\n",
    "\n",
    "#train test split\n",
    "x_train, x_test, y_train, y_test= train_test_split(\n",
    "    x_data, y_data, test_size=.1, random_state=1234,)\n",
    "# show the train and test Data format\n",
    "print('x_train : {}'.format(x_train[:]))\n",
    "print('y_train : {}'.format(y_train))\n",
    "print('y_train shape: {}'.format(y_train.shape))\n",
    "print('x_train shape: {}'.format(x_train.shape))"
   ]
  },
  {
   "cell_type": "markdown",
   "metadata": {},
   "source": [
    "# Step 3\n",
    "\n",
    "Split DataSet : Validation data and Train \n",
    "\n",
    "Validation DataSet: this data set is used to minimize overfitting.If the accuracy over the training data set increases, but the accuracy over then validation data set stays the same or decreases, then you're overfitting your neural network and you should stop training.\n",
    "\n",
    " * Note: we usually use 30 percent of every dataset as the validation data but Here we only used 5 percent because the number of images in this dataset is very low. \n",
    "\n"
   ]
  },
  {
   "cell_type": "code",
   "execution_count": 59,
   "metadata": {},
   "outputs": [],
   "source": [
    "x_train, x_valid, y_train, y_valid= train_test_split(\n",
    "    x_train, y_train, test_size=.05, random_state=1234,)"
   ]
  },
  {
   "cell_type": "markdown",
   "metadata": {},
   "source": [
    "# Step 4\n",
    "\n",
    "for using the CNN, we need to change The size of images 8100 --> 90x90"
   ]
  },
  {
   "cell_type": "code",
   "execution_count": 60,
   "metadata": {},
   "outputs": [
    {
     "name": "stdout",
     "output_type": "stream",
     "text": [
      "[[[1.        ]\n",
      "  [0.99215686]\n",
      "  [0.99607843]\n",
      "  ...\n",
      "  [0.4       ]\n",
      "  [0.74509805]\n",
      "  [0.92156863]]\n",
      "\n",
      " [[0.99607843]\n",
      "  [0.99607843]\n",
      "  [1.        ]\n",
      "  ...\n",
      "  [0.3019608 ]\n",
      "  [0.68235296]\n",
      "  [0.99215686]]\n",
      "\n",
      " [[0.99607843]\n",
      "  [1.        ]\n",
      "  [0.972549  ]\n",
      "  ...\n",
      "  [0.21568628]\n",
      "  [0.35686275]\n",
      "  [0.8235294 ]]\n",
      "\n",
      " ...\n",
      "\n",
      " [[0.88235295]\n",
      "  [0.88235295]\n",
      "  [0.8784314 ]\n",
      "  ...\n",
      "  [0.8745098 ]\n",
      "  [0.9137255 ]\n",
      "  [0.9137255 ]]\n",
      "\n",
      " [[0.8862745 ]\n",
      "  [0.88235295]\n",
      "  [0.8627451 ]\n",
      "  ...\n",
      "  [0.32156864]\n",
      "  [0.8784314 ]\n",
      "  [0.9137255 ]]\n",
      "\n",
      " [[0.8980392 ]\n",
      "  [0.85882354]\n",
      "  [0.8117647 ]\n",
      "  ...\n",
      "  [0.21568628]\n",
      "  [0.18431373]\n",
      "  [0.21960784]]]\n",
      "x_train shape: (68, 90, 90, 1)\n",
      "x_test shape: (9, 90, 90, 1)\n"
     ]
    }
   ],
   "source": [
    "im_rows=90\n",
    "im_cols=90\n",
    "im_shape=(im_rows, im_cols, 1)\n",
    "\n",
    "#change the size of images\n",
    "x_train = x_train.reshape(x_train.shape[0], *im_shape)\n",
    "x_test = x_test.reshape(x_test.shape[0], *im_shape)\n",
    "x_valid = x_valid.reshape(x_valid.shape[0], *im_shape)\n",
    "\n",
    "print(x_train[0])\n",
    "print('x_train shape: {}'.format(x_train.shape))\n",
    "print('x_test shape: {}'.format(x_test.shape))"
   ]
  },
  {
   "cell_type": "markdown",
   "metadata": {},
   "source": [
    "# Step 5\n",
    "\n",
    "\n",
    "Build CNN model:\n",
    " * 2-Convolotional layer \n",
    " * 2- pooling layer  \n",
    " * 4- fully connected layer\n",
    " \n",
    " we could build a new architecture of CNN by changing the number and position of layers.\n",
    " "
   ]
  },
  {
   "cell_type": "code",
   "execution_count": 79,
   "metadata": {},
   "outputs": [],
   "source": [
    "\n",
    "#filters= the depth of output image or kernels\n",
    "output_num = 6\n",
    "\n",
    "cnn_model= Sequential([\n",
    "    Input(shape = im_shape),\n",
    "    Conv2D(filters=32, kernel_size=6, activation='relu'),\n",
    "    MaxPooling2D(pool_size=2),\n",
    "    Conv2D(filters=64, kernel_size=4, activation='relu'),\n",
    "    MaxPooling2D(pool_size=2),\n",
    "    Flatten(),\n",
    "    Dense(128, activation='relu'),\n",
    "    Dropout(0.2),\n",
    "    Dense(64, activation='relu'),\n",
    "    Dropout(0.2),\n",
    "    Dense(32, activation='relu'),\n",
    "    #Dropout(0.2),\n",
    "    Dense(output_num, activation='sigmoid')\n",
    "])\n",
    "\n",
    "cnn_model.compile(\n",
    "    optimizer=\"adam\",\n",
    "    loss='sparse_categorical_crossentropy',\n",
    "    metrics=['accuracy']\n",
    ")"
   ]
  },
  {
   "cell_type": "markdown",
   "metadata": {},
   "source": [
    "Show the model's parameters."
   ]
  },
  {
   "cell_type": "code",
   "execution_count": 80,
   "metadata": {},
   "outputs": [
    {
     "data": {
      "text/html": [
       "<pre style=\"white-space:pre;overflow-x:auto;line-height:normal;font-family:Menlo,'DejaVu Sans Mono',consolas,'Courier New',monospace\"><span style=\"font-weight: bold\">Model: \"sequential_14\"</span>\n",
       "</pre>\n"
      ],
      "text/plain": [
       "\u001b[1mModel: \"sequential_14\"\u001b[0m\n"
      ]
     },
     "metadata": {},
     "output_type": "display_data"
    },
    {
     "data": {
      "text/html": [
       "<pre style=\"white-space:pre;overflow-x:auto;line-height:normal;font-family:Menlo,'DejaVu Sans Mono',consolas,'Courier New',monospace\">┏━━━━━━━━━━━━━━━━━━━━━━━━━━━━━━━━━┳━━━━━━━━━━━━━━━━━━━━━━━━┳━━━━━━━━━━━━━━━┓\n",
       "┃<span style=\"font-weight: bold\"> Layer (type)                    </span>┃<span style=\"font-weight: bold\"> Output Shape           </span>┃<span style=\"font-weight: bold\">       Param # </span>┃\n",
       "┡━━━━━━━━━━━━━━━━━━━━━━━━━━━━━━━━━╇━━━━━━━━━━━━━━━━━━━━━━━━╇━━━━━━━━━━━━━━━┩\n",
       "│ conv2d_28 (<span style=\"color: #0087ff; text-decoration-color: #0087ff\">Conv2D</span>)              │ (<span style=\"color: #00d7ff; text-decoration-color: #00d7ff\">None</span>, <span style=\"color: #00af00; text-decoration-color: #00af00\">85</span>, <span style=\"color: #00af00; text-decoration-color: #00af00\">85</span>, <span style=\"color: #00af00; text-decoration-color: #00af00\">32</span>)     │         <span style=\"color: #00af00; text-decoration-color: #00af00\">1,184</span> │\n",
       "├─────────────────────────────────┼────────────────────────┼───────────────┤\n",
       "│ max_pooling2d_28 (<span style=\"color: #0087ff; text-decoration-color: #0087ff\">MaxPooling2D</span>) │ (<span style=\"color: #00d7ff; text-decoration-color: #00d7ff\">None</span>, <span style=\"color: #00af00; text-decoration-color: #00af00\">42</span>, <span style=\"color: #00af00; text-decoration-color: #00af00\">42</span>, <span style=\"color: #00af00; text-decoration-color: #00af00\">32</span>)     │             <span style=\"color: #00af00; text-decoration-color: #00af00\">0</span> │\n",
       "├─────────────────────────────────┼────────────────────────┼───────────────┤\n",
       "│ conv2d_29 (<span style=\"color: #0087ff; text-decoration-color: #0087ff\">Conv2D</span>)              │ (<span style=\"color: #00d7ff; text-decoration-color: #00d7ff\">None</span>, <span style=\"color: #00af00; text-decoration-color: #00af00\">39</span>, <span style=\"color: #00af00; text-decoration-color: #00af00\">39</span>, <span style=\"color: #00af00; text-decoration-color: #00af00\">64</span>)     │        <span style=\"color: #00af00; text-decoration-color: #00af00\">32,832</span> │\n",
       "├─────────────────────────────────┼────────────────────────┼───────────────┤\n",
       "│ max_pooling2d_29 (<span style=\"color: #0087ff; text-decoration-color: #0087ff\">MaxPooling2D</span>) │ (<span style=\"color: #00d7ff; text-decoration-color: #00d7ff\">None</span>, <span style=\"color: #00af00; text-decoration-color: #00af00\">19</span>, <span style=\"color: #00af00; text-decoration-color: #00af00\">19</span>, <span style=\"color: #00af00; text-decoration-color: #00af00\">64</span>)     │             <span style=\"color: #00af00; text-decoration-color: #00af00\">0</span> │\n",
       "├─────────────────────────────────┼────────────────────────┼───────────────┤\n",
       "│ flatten_14 (<span style=\"color: #0087ff; text-decoration-color: #0087ff\">Flatten</span>)            │ (<span style=\"color: #00d7ff; text-decoration-color: #00d7ff\">None</span>, <span style=\"color: #00af00; text-decoration-color: #00af00\">23104</span>)          │             <span style=\"color: #00af00; text-decoration-color: #00af00\">0</span> │\n",
       "├─────────────────────────────────┼────────────────────────┼───────────────┤\n",
       "│ dense_56 (<span style=\"color: #0087ff; text-decoration-color: #0087ff\">Dense</span>)                │ (<span style=\"color: #00d7ff; text-decoration-color: #00d7ff\">None</span>, <span style=\"color: #00af00; text-decoration-color: #00af00\">128</span>)            │     <span style=\"color: #00af00; text-decoration-color: #00af00\">2,957,440</span> │\n",
       "├─────────────────────────────────┼────────────────────────┼───────────────┤\n",
       "│ dropout_40 (<span style=\"color: #0087ff; text-decoration-color: #0087ff\">Dropout</span>)            │ (<span style=\"color: #00d7ff; text-decoration-color: #00d7ff\">None</span>, <span style=\"color: #00af00; text-decoration-color: #00af00\">128</span>)            │             <span style=\"color: #00af00; text-decoration-color: #00af00\">0</span> │\n",
       "├─────────────────────────────────┼────────────────────────┼───────────────┤\n",
       "│ dense_57 (<span style=\"color: #0087ff; text-decoration-color: #0087ff\">Dense</span>)                │ (<span style=\"color: #00d7ff; text-decoration-color: #00d7ff\">None</span>, <span style=\"color: #00af00; text-decoration-color: #00af00\">64</span>)             │         <span style=\"color: #00af00; text-decoration-color: #00af00\">8,256</span> │\n",
       "├─────────────────────────────────┼────────────────────────┼───────────────┤\n",
       "│ dropout_41 (<span style=\"color: #0087ff; text-decoration-color: #0087ff\">Dropout</span>)            │ (<span style=\"color: #00d7ff; text-decoration-color: #00d7ff\">None</span>, <span style=\"color: #00af00; text-decoration-color: #00af00\">64</span>)             │             <span style=\"color: #00af00; text-decoration-color: #00af00\">0</span> │\n",
       "├─────────────────────────────────┼────────────────────────┼───────────────┤\n",
       "│ dense_58 (<span style=\"color: #0087ff; text-decoration-color: #0087ff\">Dense</span>)                │ (<span style=\"color: #00d7ff; text-decoration-color: #00d7ff\">None</span>, <span style=\"color: #00af00; text-decoration-color: #00af00\">32</span>)             │         <span style=\"color: #00af00; text-decoration-color: #00af00\">2,080</span> │\n",
       "├─────────────────────────────────┼────────────────────────┼───────────────┤\n",
       "│ dense_59 (<span style=\"color: #0087ff; text-decoration-color: #0087ff\">Dense</span>)                │ (<span style=\"color: #00d7ff; text-decoration-color: #00d7ff\">None</span>, <span style=\"color: #00af00; text-decoration-color: #00af00\">6</span>)              │           <span style=\"color: #00af00; text-decoration-color: #00af00\">198</span> │\n",
       "└─────────────────────────────────┴────────────────────────┴───────────────┘\n",
       "</pre>\n"
      ],
      "text/plain": [
       "┏━━━━━━━━━━━━━━━━━━━━━━━━━━━━━━━━━┳━━━━━━━━━━━━━━━━━━━━━━━━┳━━━━━━━━━━━━━━━┓\n",
       "┃\u001b[1m \u001b[0m\u001b[1mLayer (type)                   \u001b[0m\u001b[1m \u001b[0m┃\u001b[1m \u001b[0m\u001b[1mOutput Shape          \u001b[0m\u001b[1m \u001b[0m┃\u001b[1m \u001b[0m\u001b[1m      Param #\u001b[0m\u001b[1m \u001b[0m┃\n",
       "┡━━━━━━━━━━━━━━━━━━━━━━━━━━━━━━━━━╇━━━━━━━━━━━━━━━━━━━━━━━━╇━━━━━━━━━━━━━━━┩\n",
       "│ conv2d_28 (\u001b[38;5;33mConv2D\u001b[0m)              │ (\u001b[38;5;45mNone\u001b[0m, \u001b[38;5;34m85\u001b[0m, \u001b[38;5;34m85\u001b[0m, \u001b[38;5;34m32\u001b[0m)     │         \u001b[38;5;34m1,184\u001b[0m │\n",
       "├─────────────────────────────────┼────────────────────────┼───────────────┤\n",
       "│ max_pooling2d_28 (\u001b[38;5;33mMaxPooling2D\u001b[0m) │ (\u001b[38;5;45mNone\u001b[0m, \u001b[38;5;34m42\u001b[0m, \u001b[38;5;34m42\u001b[0m, \u001b[38;5;34m32\u001b[0m)     │             \u001b[38;5;34m0\u001b[0m │\n",
       "├─────────────────────────────────┼────────────────────────┼───────────────┤\n",
       "│ conv2d_29 (\u001b[38;5;33mConv2D\u001b[0m)              │ (\u001b[38;5;45mNone\u001b[0m, \u001b[38;5;34m39\u001b[0m, \u001b[38;5;34m39\u001b[0m, \u001b[38;5;34m64\u001b[0m)     │        \u001b[38;5;34m32,832\u001b[0m │\n",
       "├─────────────────────────────────┼────────────────────────┼───────────────┤\n",
       "│ max_pooling2d_29 (\u001b[38;5;33mMaxPooling2D\u001b[0m) │ (\u001b[38;5;45mNone\u001b[0m, \u001b[38;5;34m19\u001b[0m, \u001b[38;5;34m19\u001b[0m, \u001b[38;5;34m64\u001b[0m)     │             \u001b[38;5;34m0\u001b[0m │\n",
       "├─────────────────────────────────┼────────────────────────┼───────────────┤\n",
       "│ flatten_14 (\u001b[38;5;33mFlatten\u001b[0m)            │ (\u001b[38;5;45mNone\u001b[0m, \u001b[38;5;34m23104\u001b[0m)          │             \u001b[38;5;34m0\u001b[0m │\n",
       "├─────────────────────────────────┼────────────────────────┼───────────────┤\n",
       "│ dense_56 (\u001b[38;5;33mDense\u001b[0m)                │ (\u001b[38;5;45mNone\u001b[0m, \u001b[38;5;34m128\u001b[0m)            │     \u001b[38;5;34m2,957,440\u001b[0m │\n",
       "├─────────────────────────────────┼────────────────────────┼───────────────┤\n",
       "│ dropout_40 (\u001b[38;5;33mDropout\u001b[0m)            │ (\u001b[38;5;45mNone\u001b[0m, \u001b[38;5;34m128\u001b[0m)            │             \u001b[38;5;34m0\u001b[0m │\n",
       "├─────────────────────────────────┼────────────────────────┼───────────────┤\n",
       "│ dense_57 (\u001b[38;5;33mDense\u001b[0m)                │ (\u001b[38;5;45mNone\u001b[0m, \u001b[38;5;34m64\u001b[0m)             │         \u001b[38;5;34m8,256\u001b[0m │\n",
       "├─────────────────────────────────┼────────────────────────┼───────────────┤\n",
       "│ dropout_41 (\u001b[38;5;33mDropout\u001b[0m)            │ (\u001b[38;5;45mNone\u001b[0m, \u001b[38;5;34m64\u001b[0m)             │             \u001b[38;5;34m0\u001b[0m │\n",
       "├─────────────────────────────────┼────────────────────────┼───────────────┤\n",
       "│ dense_58 (\u001b[38;5;33mDense\u001b[0m)                │ (\u001b[38;5;45mNone\u001b[0m, \u001b[38;5;34m32\u001b[0m)             │         \u001b[38;5;34m2,080\u001b[0m │\n",
       "├─────────────────────────────────┼────────────────────────┼───────────────┤\n",
       "│ dense_59 (\u001b[38;5;33mDense\u001b[0m)                │ (\u001b[38;5;45mNone\u001b[0m, \u001b[38;5;34m6\u001b[0m)              │           \u001b[38;5;34m198\u001b[0m │\n",
       "└─────────────────────────────────┴────────────────────────┴───────────────┘\n"
      ]
     },
     "metadata": {},
     "output_type": "display_data"
    },
    {
     "data": {
      "text/html": [
       "<pre style=\"white-space:pre;overflow-x:auto;line-height:normal;font-family:Menlo,'DejaVu Sans Mono',consolas,'Courier New',monospace\"><span style=\"font-weight: bold\"> Total params: </span><span style=\"color: #00af00; text-decoration-color: #00af00\">3,001,990</span> (11.45 MB)\n",
       "</pre>\n"
      ],
      "text/plain": [
       "\u001b[1m Total params: \u001b[0m\u001b[38;5;34m3,001,990\u001b[0m (11.45 MB)\n"
      ]
     },
     "metadata": {},
     "output_type": "display_data"
    },
    {
     "data": {
      "text/html": [
       "<pre style=\"white-space:pre;overflow-x:auto;line-height:normal;font-family:Menlo,'DejaVu Sans Mono',consolas,'Courier New',monospace\"><span style=\"font-weight: bold\"> Trainable params: </span><span style=\"color: #00af00; text-decoration-color: #00af00\">3,001,990</span> (11.45 MB)\n",
       "</pre>\n"
      ],
      "text/plain": [
       "\u001b[1m Trainable params: \u001b[0m\u001b[38;5;34m3,001,990\u001b[0m (11.45 MB)\n"
      ]
     },
     "metadata": {},
     "output_type": "display_data"
    },
    {
     "data": {
      "text/html": [
       "<pre style=\"white-space:pre;overflow-x:auto;line-height:normal;font-family:Menlo,'DejaVu Sans Mono',consolas,'Courier New',monospace\"><span style=\"font-weight: bold\"> Non-trainable params: </span><span style=\"color: #00af00; text-decoration-color: #00af00\">0</span> (0.00 B)\n",
       "</pre>\n"
      ],
      "text/plain": [
       "\u001b[1m Non-trainable params: \u001b[0m\u001b[38;5;34m0\u001b[0m (0.00 B)\n"
      ]
     },
     "metadata": {},
     "output_type": "display_data"
    },
    {
     "name": "stdout",
     "output_type": "stream",
     "text": [
      "[]\n",
      "Num GPUs Available:  0\n"
     ]
    }
   ],
   "source": [
    "cnn_model.summary()\n",
    "print(tf.config.list_physical_devices('GPU'))\n",
    "print(\"Num GPUs Available: \", len(tf.config.list_physical_devices('GPU')))"
   ]
  },
  {
   "cell_type": "markdown",
   "metadata": {},
   "source": [
    "# Step 6\n",
    "\n",
    "Train the Model\n",
    "\n",
    "* BatchSize: 8 \n",
    "* Epochs: 50\n"
   ]
  },
  {
   "cell_type": "code",
   "execution_count": 81,
   "metadata": {},
   "outputs": [
    {
     "name": "stdout",
     "output_type": "stream",
     "text": [
      "Epoch 1/50\n",
      "9/9 - 3s - 310ms/step - accuracy: 0.1618 - loss: 1.7837 - val_accuracy: 0.5000 - val_loss: 1.6451\n",
      "Epoch 2/50\n",
      "9/9 - 1s - 56ms/step - accuracy: 0.2647 - loss: 1.6879 - val_accuracy: 0.5000 - val_loss: 1.5798\n",
      "Epoch 3/50\n",
      "9/9 - 0s - 54ms/step - accuracy: 0.4559 - loss: 1.3849 - val_accuracy: 1.0000 - val_loss: 0.8347\n",
      "Epoch 4/50\n",
      "9/9 - 0s - 53ms/step - accuracy: 0.5735 - loss: 1.0192 - val_accuracy: 1.0000 - val_loss: 0.3490\n",
      "Epoch 5/50\n",
      "9/9 - 0s - 55ms/step - accuracy: 0.7500 - loss: 0.6687 - val_accuracy: 1.0000 - val_loss: 0.2188\n",
      "Epoch 6/50\n",
      "9/9 - 0s - 54ms/step - accuracy: 0.9118 - loss: 0.3384 - val_accuracy: 1.0000 - val_loss: 0.0662\n",
      "Epoch 7/50\n",
      "9/9 - 0s - 54ms/step - accuracy: 0.8971 - loss: 0.3261 - val_accuracy: 1.0000 - val_loss: 0.0062\n",
      "Epoch 8/50\n",
      "9/9 - 0s - 54ms/step - accuracy: 0.8971 - loss: 0.2639 - val_accuracy: 1.0000 - val_loss: 0.0685\n",
      "Epoch 9/50\n",
      "9/9 - 0s - 54ms/step - accuracy: 0.9412 - loss: 0.1614 - val_accuracy: 1.0000 - val_loss: 0.0189\n",
      "Epoch 10/50\n",
      "9/9 - 0s - 54ms/step - accuracy: 0.9706 - loss: 0.0949 - val_accuracy: 1.0000 - val_loss: 0.0067\n",
      "Epoch 11/50\n",
      "9/9 - 0s - 53ms/step - accuracy: 1.0000 - loss: 0.0419 - val_accuracy: 1.0000 - val_loss: 5.2691e-04\n",
      "Epoch 12/50\n",
      "9/9 - 0s - 53ms/step - accuracy: 0.9853 - loss: 0.0766 - val_accuracy: 1.0000 - val_loss: 3.2094e-04\n",
      "Epoch 13/50\n",
      "9/9 - 0s - 55ms/step - accuracy: 0.9412 - loss: 0.1985 - val_accuracy: 1.0000 - val_loss: 0.0012\n",
      "Epoch 14/50\n",
      "9/9 - 0s - 53ms/step - accuracy: 0.9853 - loss: 0.0357 - val_accuracy: 1.0000 - val_loss: 0.0032\n",
      "Epoch 15/50\n",
      "9/9 - 0s - 54ms/step - accuracy: 0.9559 - loss: 0.0682 - val_accuracy: 1.0000 - val_loss: 0.0012\n",
      "Epoch 16/50\n",
      "9/9 - 0s - 52ms/step - accuracy: 0.9265 - loss: 0.2913 - val_accuracy: 1.0000 - val_loss: 0.0059\n",
      "Epoch 17/50\n",
      "9/9 - 0s - 54ms/step - accuracy: 1.0000 - loss: 0.0811 - val_accuracy: 1.0000 - val_loss: 0.0050\n",
      "Epoch 18/50\n",
      "9/9 - 0s - 55ms/step - accuracy: 0.9853 - loss: 0.0621 - val_accuracy: 1.0000 - val_loss: 4.2705e-04\n",
      "Epoch 19/50\n",
      "9/9 - 0s - 53ms/step - accuracy: 0.9706 - loss: 0.0694 - val_accuracy: 1.0000 - val_loss: 4.6203e-04\n",
      "Epoch 20/50\n",
      "9/9 - 0s - 53ms/step - accuracy: 0.9853 - loss: 0.0814 - val_accuracy: 1.0000 - val_loss: 9.8427e-05\n",
      "Epoch 21/50\n",
      "9/9 - 1s - 56ms/step - accuracy: 0.9706 - loss: 0.1118 - val_accuracy: 1.0000 - val_loss: 5.5698e-05\n",
      "Epoch 22/50\n",
      "9/9 - 0s - 55ms/step - accuracy: 0.9853 - loss: 0.0190 - val_accuracy: 1.0000 - val_loss: 9.4943e-05\n",
      "Epoch 23/50\n",
      "9/9 - 0s - 56ms/step - accuracy: 0.9706 - loss: 0.0523 - val_accuracy: 1.0000 - val_loss: 0.0017\n",
      "Epoch 24/50\n",
      "9/9 - 0s - 55ms/step - accuracy: 0.9853 - loss: 0.0919 - val_accuracy: 1.0000 - val_loss: 6.3416e-04\n",
      "Epoch 25/50\n",
      "9/9 - 0s - 55ms/step - accuracy: 1.0000 - loss: 0.0153 - val_accuracy: 1.0000 - val_loss: 7.8641e-05\n",
      "Epoch 26/50\n",
      "9/9 - 0s - 55ms/step - accuracy: 1.0000 - loss: 0.0146 - val_accuracy: 1.0000 - val_loss: 1.9580e-05\n",
      "Epoch 27/50\n",
      "9/9 - 0s - 56ms/step - accuracy: 1.0000 - loss: 0.0162 - val_accuracy: 1.0000 - val_loss: 2.0623e-05\n",
      "Epoch 28/50\n",
      "9/9 - 0s - 54ms/step - accuracy: 1.0000 - loss: 0.0065 - val_accuracy: 1.0000 - val_loss: 1.5974e-05\n",
      "Epoch 29/50\n",
      "9/9 - 1s - 57ms/step - accuracy: 1.0000 - loss: 0.0068 - val_accuracy: 1.0000 - val_loss: 4.0531e-06\n",
      "Epoch 30/50\n",
      "9/9 - 0s - 54ms/step - accuracy: 1.0000 - loss: 8.9704e-04 - val_accuracy: 1.0000 - val_loss: 1.9073e-06\n",
      "Epoch 31/50\n",
      "9/9 - 0s - 55ms/step - accuracy: 1.0000 - loss: 0.0136 - val_accuracy: 1.0000 - val_loss: 1.3411e-06\n",
      "Epoch 32/50\n",
      "9/9 - 0s - 54ms/step - accuracy: 1.0000 - loss: 0.0022 - val_accuracy: 1.0000 - val_loss: 1.0729e-06\n",
      "Epoch 33/50\n",
      "9/9 - 0s - 55ms/step - accuracy: 1.0000 - loss: 4.1190e-04 - val_accuracy: 1.0000 - val_loss: 6.2585e-07\n",
      "Epoch 34/50\n",
      "9/9 - 0s - 54ms/step - accuracy: 0.9706 - loss: 0.0621 - val_accuracy: 1.0000 - val_loss: 1.3947e-05\n",
      "Epoch 35/50\n",
      "9/9 - 0s - 55ms/step - accuracy: 0.9706 - loss: 0.0340 - val_accuracy: 1.0000 - val_loss: 5.1017e-05\n",
      "Epoch 36/50\n",
      "9/9 - 0s - 54ms/step - accuracy: 1.0000 - loss: 0.0091 - val_accuracy: 1.0000 - val_loss: 9.8656e-04\n",
      "Epoch 37/50\n",
      "9/9 - 0s - 55ms/step - accuracy: 0.9706 - loss: 0.0498 - val_accuracy: 1.0000 - val_loss: 6.3534e-05\n",
      "Epoch 38/50\n",
      "9/9 - 1s - 56ms/step - accuracy: 0.9853 - loss: 0.0254 - val_accuracy: 1.0000 - val_loss: 7.8555e-05\n",
      "Epoch 39/50\n",
      "9/9 - 1s - 56ms/step - accuracy: 1.0000 - loss: 0.0123 - val_accuracy: 1.0000 - val_loss: 1.4335e-05\n",
      "Epoch 40/50\n",
      "9/9 - 1s - 57ms/step - accuracy: 1.0000 - loss: 0.0073 - val_accuracy: 1.0000 - val_loss: 9.5367e-07\n",
      "Epoch 41/50\n",
      "9/9 - 1s - 56ms/step - accuracy: 1.0000 - loss: 0.0025 - val_accuracy: 1.0000 - val_loss: 5.9605e-08\n",
      "Epoch 42/50\n",
      "9/9 - 0s - 55ms/step - accuracy: 1.0000 - loss: 0.0024 - val_accuracy: 1.0000 - val_loss: 0.0000e+00\n",
      "Epoch 43/50\n",
      "9/9 - 1s - 57ms/step - accuracy: 0.9853 - loss: 0.0473 - val_accuracy: 1.0000 - val_loss: 8.9407e-08\n",
      "Epoch 44/50\n",
      "9/9 - 1s - 56ms/step - accuracy: 1.0000 - loss: 2.2704e-04 - val_accuracy: 1.0000 - val_loss: 3.2783e-07\n",
      "Epoch 45/50\n",
      "9/9 - 1s - 57ms/step - accuracy: 1.0000 - loss: 0.0102 - val_accuracy: 1.0000 - val_loss: 2.0862e-07\n",
      "Epoch 46/50\n",
      "9/9 - 1s - 56ms/step - accuracy: 1.0000 - loss: 0.0058 - val_accuracy: 1.0000 - val_loss: 1.4901e-07\n",
      "Epoch 47/50\n",
      "9/9 - 0s - 54ms/step - accuracy: 1.0000 - loss: 4.0339e-04 - val_accuracy: 1.0000 - val_loss: 8.9407e-08\n",
      "Epoch 48/50\n",
      "9/9 - 0s - 53ms/step - accuracy: 1.0000 - loss: 0.0042 - val_accuracy: 1.0000 - val_loss: 5.9605e-08\n",
      "Epoch 49/50\n",
      "9/9 - 0s - 53ms/step - accuracy: 1.0000 - loss: 0.0047 - val_accuracy: 1.0000 - val_loss: 8.9407e-08\n",
      "Epoch 50/50\n",
      "9/9 - 0s - 54ms/step - accuracy: 1.0000 - loss: 0.0025 - val_accuracy: 1.0000 - val_loss: 5.9605e-08\n"
     ]
    }
   ],
   "source": [
    "history=cnn_model.fit(\n",
    "    x_train, \n",
    "    y_train, \n",
    "    batch_size=8,\n",
    "    epochs=50, \n",
    "    verbose=2,\n",
    "    validation_data=(x_valid,y_valid),\n",
    ")"
   ]
  },
  {
   "cell_type": "markdown",
   "metadata": {},
   "source": [
    "Evaluate the test data\n"
   ]
  },
  {
   "cell_type": "code",
   "execution_count": 82,
   "metadata": {},
   "outputs": [
    {
     "name": "stdout",
     "output_type": "stream",
     "text": [
      "test los 0.0041\n",
      "test acc 1.0000\n"
     ]
    }
   ],
   "source": [
    "scor = cnn_model.evaluate(x_test, y_test, verbose=0)\n",
    "cnn_model.save('models/cnn.keras')\n",
    "\n",
    "print('test los {:.4f}'.format(scor[0]))\n",
    "print('test acc {:.4f}'.format(scor[1]))"
   ]
  },
  {
   "cell_type": "markdown",
   "metadata": {},
   "source": [
    "# Step 7 \n",
    "\n",
    "plot the result"
   ]
  },
  {
   "cell_type": "code",
   "execution_count": 83,
   "metadata": {},
   "outputs": [
    {
     "name": "stdout",
     "output_type": "stream",
     "text": [
      "dict_keys(['accuracy', 'loss', 'val_accuracy', 'val_loss'])\n"
     ]
    },
    {
     "data": {
      "image/png": "[encoded data removed]",
      "text/plain": [
       "<Figure size 640x480 with 1 Axes>"
      ]
     },
     "metadata": {},
     "output_type": "display_data"
    },
    {
     "data": {
      "image/png": "[encoded data removed]",
      "text/plain": [
       "<Figure size 640x480 with 1 Axes>"
      ]
     },
     "metadata": {},
     "output_type": "display_data"
    }
   ],
   "source": [
    "# list all data in history\n",
    "print(history.history.keys())\n",
    "# summarize history for accuracy\n",
    "plt.plot(history.history['accuracy'])\n",
    "plt.plot(history.history['val_accuracy'])\n",
    "plt.title('model accuracy')\n",
    "plt.ylabel('accuracy')\n",
    "plt.xlabel('epoch')\n",
    "plt.legend(['train', 'val'], loc='upper left')\n",
    "plt.show()\n",
    "# summarize history for loss\n",
    "plt.plot(history.history['loss'])\n",
    "plt.plot(history.history['val_loss'])\n",
    "plt.title('model loss')\n",
    "plt.ylabel('loss')\n",
    "plt.xlabel('epoch')\n",
    "plt.legend(['train', 'val'], loc='upper left')\n",
    "plt.show()"
   ]
  }
 ],
 "metadata": {
  "kernelspec": {
   "display_name": "Python 3",
   "language": "python",
   "name": "python3"
  },
  "language_info": {
   "codemirror_mode": {
    "name": "ipython",
    "version": 3
   },
   "file_extension": ".py",
   "mimetype": "text/x-python",
   "name": "python",
   "nbconvert_exporter": "python",
   "pygments_lexer": "ipython3",
   "version": "3.12.2"
  }
 },
 "nbformat": 4,
 "nbformat_minor": 2
}
