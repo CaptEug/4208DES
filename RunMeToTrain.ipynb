{
 "cells": [
  {
   "cell_type": "markdown",
   "metadata": {},
   "source": [
    "# Face Recognition using CNN"
   ]
  },
  {
   "cell_type": "markdown",
   "metadata": {},
   "source": [
    " # Step1:\n",
    " \n",
    "At the first, you should input the required libraries:"
   ]
  },
  {
   "cell_type": "code",
   "execution_count": 3,
   "metadata": {},
   "outputs": [],
   "source": [
    "import keras\n",
    "from keras.models import Sequential\n",
    "from keras.layers import Conv2D, MaxPooling2D, Dense, Flatten, Input\n",
    "\n",
    "import numpy as np\n",
    "import pandas as pd\n",
    "import tensorflow as tf\n",
    "#tf.config.run_functions_eagerly(True)\n",
    "import matplotlib.pyplot as plt\n",
    "from sklearn.model_selection import train_test_split\n",
    "\n",
    "from sklearn.metrics import confusion_matrix\n",
    "from sklearn.metrics import classification_report\n",
    "from sklearn.metrics import roc_curve, auc\n",
    "from sklearn.metrics import accuracy_score\n",
    "import np_utils\n",
    "import itertools"
   ]
  },
  {
   "cell_type": "markdown",
   "metadata": {},
   "source": [
    "# Step2:\n",
    "\n",
    "* Load Dataset :\n",
    "\n",
    "After loading the Dataset you have to normalize every image.\n",
    "\n",
    "Note: an image is a Uint8 matrix of pixels and for calculation, you need to convert the format of the image to float or double"
   ]
  },
  {
   "cell_type": "code",
   "execution_count": 4,
   "metadata": {},
   "outputs": [
    {
     "name": "stdout",
     "output_type": "stream",
     "text": [
      "x_train : [[0.9372549  0.9254902  0.8666667  ... 0.95686275 0.95686275 0.9764706 ]\n",
      " [0.6313726  0.6        0.5764706  ... 0.8980392  0.8666667  0.8627451 ]\n",
      " [0.9882353  0.9882353  0.9843137  ... 0.9254902  0.9411765  0.9411765 ]\n",
      " ...\n",
      " [0.00784314 0.01960784 0.00392157 ... 0.85490197 0.8627451  0.8980392 ]\n",
      " [0.9843137  1.         0.99607843 ... 0.8901961  0.8901961  0.8862745 ]\n",
      " [0.9843137  0.9764706  0.9843137  ... 0.14509805 0.1764706  0.16470589]]\n",
      "y_train : [ 8  1 11  3  5  8  8  9 11  9 12  8  5  3 12  3 12  2  6  6  1  5  6  4\n",
      "  3  5  5 11  5  8  9  8  9 10 11  3  1 12  1  7  0 11  5  9  7  8  9  5\n",
      "  9  3 10  2  6 12  6 10  0  7  4 12 12  7  2  2  6  0  5  8  0 11 11  0\n",
      "  7  3  1  9 11  9  1  3 11  7  5  7  6  4  6  1  8  8  4  3  6 11  7  4\n",
      " 11 10 10  5  7  9 11 11  1  0  6 11  4  7 11 11  1  2 12  9  7  3  0  8\n",
      "  7  7  7  6 10  0  8  1  5  5 10  9  2  0 11 10  0  0 12  0  5  0  1  1\n",
      "  5  1  5  2  8  1  0  6  9  5  4  9]\n",
      "y_train shape: (156,)\n",
      "x_train shape: (156, 8100)\n"
     ]
    }
   ],
   "source": [
    "#load dataset\n",
    "x_data = np.load(\"trainset/train_x.npy\")\n",
    "y_data = np.load(\"trainset/train_y.npy\")\n",
    "\n",
    "\n",
    "#normalize every image\n",
    "x_data= np.array(x_data,dtype='float32')/255\n",
    "\n",
    "#Creating a mapping for index and face names\n",
    "facemapping = {\n",
    "0:'E',\n",
    "1:'G',\n",
    "2:'hanseng',\n",
    "3:'eugene',\n",
    "4:'tanaaz',\n",
    "5:'B',\n",
    "6:'ivan',\n",
    "7:'A',\n",
    "8:'F',\n",
    "9:'C',\n",
    "10:'david',\n",
    "11:'D',\n",
    "12:'hiran'}\n",
    "#train test split\n",
    "x_train, x_test, y_train, y_test= train_test_split(\n",
    "    x_data, y_data, test_size=.3, random_state=1234,)\n",
    "# show the train and test Data format\n",
    "print('x_train : {}'.format(x_train[:]))\n",
    "print('y_train : {}'.format(y_train))\n",
    "print('y_train shape: {}'.format(y_train.shape))\n",
    "print('x_train shape: {}'.format(x_train.shape))"
   ]
  },
  {
   "cell_type": "markdown",
   "metadata": {},
   "source": [
    "# Step 3\n",
    "\n",
    "Split DataSet : Validation data and Train \n",
    "\n",
    "Validation DataSet: this data set is used to minimize overfitting.If the accuracy over the training data set increases, but the accuracy over then validation data set stays the same or decreases, then you're overfitting your neural network and you should stop training.\n",
    "\n",
    " * Note: we usually use 30 percent of every dataset as the validation data but Here we only used 5 percent because the number of images in this dataset is very low. \n",
    "\n"
   ]
  },
  {
   "cell_type": "code",
   "execution_count": 5,
   "metadata": {},
   "outputs": [],
   "source": [
    "x_train, x_valid, y_train, y_valid= train_test_split(\n",
    "    x_train, y_train, test_size=.05, random_state=1234,)"
   ]
  },
  {
   "cell_type": "markdown",
   "metadata": {},
   "source": [
    "# Step 4\n",
    "\n",
    "for using the CNN, we need to change The size of images ( The size of images must be the same)"
   ]
  },
  {
   "cell_type": "code",
   "execution_count": 18,
   "metadata": {},
   "outputs": [
    {
     "name": "stdout",
     "output_type": "stream",
     "text": [
      "[[[0.98039216]\n",
      "  [0.9882353 ]\n",
      "  [0.96862745]\n",
      "  ...\n",
      "  [0.99215686]\n",
      "  [0.99215686]\n",
      "  [0.99215686]]\n",
      "\n",
      " [[0.9882353 ]\n",
      "  [0.9843137 ]\n",
      "  [0.972549  ]\n",
      "  ...\n",
      "  [0.99607843]\n",
      "  [0.99607843]\n",
      "  [0.99607843]]\n",
      "\n",
      " [[0.9843137 ]\n",
      "  [0.972549  ]\n",
      "  [0.99215686]\n",
      "  ...\n",
      "  [0.99607843]\n",
      "  [1.        ]\n",
      "  [1.        ]]\n",
      "\n",
      " ...\n",
      "\n",
      " [[0.11372549]\n",
      "  [0.09411765]\n",
      "  [0.13725491]\n",
      "  ...\n",
      "  [0.14509805]\n",
      "  [0.15686275]\n",
      "  [0.15686275]]\n",
      "\n",
      " [[0.14117648]\n",
      "  [0.09411765]\n",
      "  [0.10980392]\n",
      "  ...\n",
      "  [0.16078432]\n",
      "  [0.14901961]\n",
      "  [0.15294118]]\n",
      "\n",
      " [[0.14901961]\n",
      "  [0.09803922]\n",
      "  [0.11372549]\n",
      "  ...\n",
      "  [0.14901961]\n",
      "  [0.13725491]\n",
      "  [0.14117648]]]\n",
      "x_train shape: (148, 90, 90, 1)\n",
      "x_test shape: (67, 90, 90, 1)\n"
     ]
    }
   ],
   "source": [
    "im_rows=90\n",
    "im_cols=90\n",
    "im_shape=(im_rows, im_cols, 1)\n",
    "\n",
    "#change the size of images\n",
    "x_train = x_train.reshape(x_train.shape[0], *im_shape)\n",
    "x_test = x_test.reshape(x_test.shape[0], *im_shape)\n",
    "x_valid = x_valid.reshape(x_valid.shape[0], *im_shape)\n",
    "\n",
    "print(x_train[0])\n",
    "print('x_train shape: {}'.format(x_train.shape))\n",
    "print('x_test shape: {}'.format(x_test.shape))"
   ]
  },
  {
   "cell_type": "markdown",
   "metadata": {},
   "source": [
    "# Step 5\n",
    "\n",
    "\n",
    "Build CNN model:\n",
    " CNN have 3 main layer: \n",
    " * 1-Convolotional layer \n",
    " * 2- pooling layer  \n",
    " * 3- fully connected layer\n",
    " \n",
    " we could build a new architecture of CNN by changing the number and position of layers.\n",
    " "
   ]
  },
  {
   "cell_type": "code",
   "execution_count": 22,
   "metadata": {},
   "outputs": [],
   "source": [
    "\n",
    "#filters= the depth of output image or kernels\n",
    "output_num = 13\n",
    "\n",
    "cnn_model= Sequential([\n",
    "    Input(shape = im_shape),\n",
    "    Conv2D(filters=32, kernel_size=7, activation='relu'),\n",
    "    MaxPooling2D(pool_size=2),\n",
    "    Conv2D(filters=64, kernel_size=5, activation='relu'),\n",
    "    MaxPooling2D(pool_size=2),\n",
    "    Flatten(),\n",
    "    Dense(64, activation='relu'),\n",
    "    Dense(32, activation='relu'),\n",
    "    Dense(output_num, activation='softmax')\n",
    "])\n",
    "\n",
    "cnn_model.compile(\n",
    "    optimizer=\"adam\",\n",
    "    loss='sparse_categorical_crossentropy',\n",
    "    metrics=['accuracy']\n",
    ")"
   ]
  },
  {
   "cell_type": "markdown",
   "metadata": {},
   "source": [
    "Show the model's parameters."
   ]
  },
  {
   "cell_type": "code",
   "execution_count": 23,
   "metadata": {},
   "outputs": [
    {
     "data": {
      "text/html": [
       "<pre style=\"white-space:pre;overflow-x:auto;line-height:normal;font-family:Menlo,'DejaVu Sans Mono',consolas,'Courier New',monospace\"><span style=\"font-weight: bold\">Model: \"sequential_5\"</span>\n",
       "</pre>\n"
      ],
      "text/plain": [
       "\u001b[1mModel: \"sequential_5\"\u001b[0m\n"
      ]
     },
     "metadata": {},
     "output_type": "display_data"
    },
    {
     "data": {
      "text/html": [
       "<pre style=\"white-space:pre;overflow-x:auto;line-height:normal;font-family:Menlo,'DejaVu Sans Mono',consolas,'Courier New',monospace\">┏━━━━━━━━━━━━━━━━━━━━━━━━━━━━━━━━━┳━━━━━━━━━━━━━━━━━━━━━━━━┳━━━━━━━━━━━━━━━┓\n",
       "┃<span style=\"font-weight: bold\"> Layer (type)                    </span>┃<span style=\"font-weight: bold\"> Output Shape           </span>┃<span style=\"font-weight: bold\">       Param # </span>┃\n",
       "┡━━━━━━━━━━━━━━━━━━━━━━━━━━━━━━━━━╇━━━━━━━━━━━━━━━━━━━━━━━━╇━━━━━━━━━━━━━━━┩\n",
       "│ conv2d_10 (<span style=\"color: #0087ff; text-decoration-color: #0087ff\">Conv2D</span>)              │ (<span style=\"color: #00d7ff; text-decoration-color: #00d7ff\">None</span>, <span style=\"color: #00af00; text-decoration-color: #00af00\">84</span>, <span style=\"color: #00af00; text-decoration-color: #00af00\">84</span>, <span style=\"color: #00af00; text-decoration-color: #00af00\">32</span>)     │         <span style=\"color: #00af00; text-decoration-color: #00af00\">1,600</span> │\n",
       "├─────────────────────────────────┼────────────────────────┼───────────────┤\n",
       "│ max_pooling2d_10 (<span style=\"color: #0087ff; text-decoration-color: #0087ff\">MaxPooling2D</span>) │ (<span style=\"color: #00d7ff; text-decoration-color: #00d7ff\">None</span>, <span style=\"color: #00af00; text-decoration-color: #00af00\">42</span>, <span style=\"color: #00af00; text-decoration-color: #00af00\">42</span>, <span style=\"color: #00af00; text-decoration-color: #00af00\">32</span>)     │             <span style=\"color: #00af00; text-decoration-color: #00af00\">0</span> │\n",
       "├─────────────────────────────────┼────────────────────────┼───────────────┤\n",
       "│ conv2d_11 (<span style=\"color: #0087ff; text-decoration-color: #0087ff\">Conv2D</span>)              │ (<span style=\"color: #00d7ff; text-decoration-color: #00d7ff\">None</span>, <span style=\"color: #00af00; text-decoration-color: #00af00\">38</span>, <span style=\"color: #00af00; text-decoration-color: #00af00\">38</span>, <span style=\"color: #00af00; text-decoration-color: #00af00\">64</span>)     │        <span style=\"color: #00af00; text-decoration-color: #00af00\">51,264</span> │\n",
       "├─────────────────────────────────┼────────────────────────┼───────────────┤\n",
       "│ max_pooling2d_11 (<span style=\"color: #0087ff; text-decoration-color: #0087ff\">MaxPooling2D</span>) │ (<span style=\"color: #00d7ff; text-decoration-color: #00d7ff\">None</span>, <span style=\"color: #00af00; text-decoration-color: #00af00\">19</span>, <span style=\"color: #00af00; text-decoration-color: #00af00\">19</span>, <span style=\"color: #00af00; text-decoration-color: #00af00\">64</span>)     │             <span style=\"color: #00af00; text-decoration-color: #00af00\">0</span> │\n",
       "├─────────────────────────────────┼────────────────────────┼───────────────┤\n",
       "│ flatten_5 (<span style=\"color: #0087ff; text-decoration-color: #0087ff\">Flatten</span>)             │ (<span style=\"color: #00d7ff; text-decoration-color: #00d7ff\">None</span>, <span style=\"color: #00af00; text-decoration-color: #00af00\">23104</span>)          │             <span style=\"color: #00af00; text-decoration-color: #00af00\">0</span> │\n",
       "├─────────────────────────────────┼────────────────────────┼───────────────┤\n",
       "│ dense_15 (<span style=\"color: #0087ff; text-decoration-color: #0087ff\">Dense</span>)                │ (<span style=\"color: #00d7ff; text-decoration-color: #00d7ff\">None</span>, <span style=\"color: #00af00; text-decoration-color: #00af00\">64</span>)             │     <span style=\"color: #00af00; text-decoration-color: #00af00\">1,478,720</span> │\n",
       "├─────────────────────────────────┼────────────────────────┼───────────────┤\n",
       "│ dense_16 (<span style=\"color: #0087ff; text-decoration-color: #0087ff\">Dense</span>)                │ (<span style=\"color: #00d7ff; text-decoration-color: #00d7ff\">None</span>, <span style=\"color: #00af00; text-decoration-color: #00af00\">32</span>)             │         <span style=\"color: #00af00; text-decoration-color: #00af00\">2,080</span> │\n",
       "├─────────────────────────────────┼────────────────────────┼───────────────┤\n",
       "│ dense_17 (<span style=\"color: #0087ff; text-decoration-color: #0087ff\">Dense</span>)                │ (<span style=\"color: #00d7ff; text-decoration-color: #00d7ff\">None</span>, <span style=\"color: #00af00; text-decoration-color: #00af00\">13</span>)             │           <span style=\"color: #00af00; text-decoration-color: #00af00\">429</span> │\n",
       "└─────────────────────────────────┴────────────────────────┴───────────────┘\n",
       "</pre>\n"
      ],
      "text/plain": [
       "┏━━━━━━━━━━━━━━━━━━━━━━━━━━━━━━━━━┳━━━━━━━━━━━━━━━━━━━━━━━━┳━━━━━━━━━━━━━━━┓\n",
       "┃\u001b[1m \u001b[0m\u001b[1mLayer (type)                   \u001b[0m\u001b[1m \u001b[0m┃\u001b[1m \u001b[0m\u001b[1mOutput Shape          \u001b[0m\u001b[1m \u001b[0m┃\u001b[1m \u001b[0m\u001b[1m      Param #\u001b[0m\u001b[1m \u001b[0m┃\n",
       "┡━━━━━━━━━━━━━━━━━━━━━━━━━━━━━━━━━╇━━━━━━━━━━━━━━━━━━━━━━━━╇━━━━━━━━━━━━━━━┩\n",
       "│ conv2d_10 (\u001b[38;5;33mConv2D\u001b[0m)              │ (\u001b[38;5;45mNone\u001b[0m, \u001b[38;5;34m84\u001b[0m, \u001b[38;5;34m84\u001b[0m, \u001b[38;5;34m32\u001b[0m)     │         \u001b[38;5;34m1,600\u001b[0m │\n",
       "├─────────────────────────────────┼────────────────────────┼───────────────┤\n",
       "│ max_pooling2d_10 (\u001b[38;5;33mMaxPooling2D\u001b[0m) │ (\u001b[38;5;45mNone\u001b[0m, \u001b[38;5;34m42\u001b[0m, \u001b[38;5;34m42\u001b[0m, \u001b[38;5;34m32\u001b[0m)     │             \u001b[38;5;34m0\u001b[0m │\n",
       "├─────────────────────────────────┼────────────────────────┼───────────────┤\n",
       "│ conv2d_11 (\u001b[38;5;33mConv2D\u001b[0m)              │ (\u001b[38;5;45mNone\u001b[0m, \u001b[38;5;34m38\u001b[0m, \u001b[38;5;34m38\u001b[0m, \u001b[38;5;34m64\u001b[0m)     │        \u001b[38;5;34m51,264\u001b[0m │\n",
       "├─────────────────────────────────┼────────────────────────┼───────────────┤\n",
       "│ max_pooling2d_11 (\u001b[38;5;33mMaxPooling2D\u001b[0m) │ (\u001b[38;5;45mNone\u001b[0m, \u001b[38;5;34m19\u001b[0m, \u001b[38;5;34m19\u001b[0m, \u001b[38;5;34m64\u001b[0m)     │             \u001b[38;5;34m0\u001b[0m │\n",
       "├─────────────────────────────────┼────────────────────────┼───────────────┤\n",
       "│ flatten_5 (\u001b[38;5;33mFlatten\u001b[0m)             │ (\u001b[38;5;45mNone\u001b[0m, \u001b[38;5;34m23104\u001b[0m)          │             \u001b[38;5;34m0\u001b[0m │\n",
       "├─────────────────────────────────┼────────────────────────┼───────────────┤\n",
       "│ dense_15 (\u001b[38;5;33mDense\u001b[0m)                │ (\u001b[38;5;45mNone\u001b[0m, \u001b[38;5;34m64\u001b[0m)             │     \u001b[38;5;34m1,478,720\u001b[0m │\n",
       "├─────────────────────────────────┼────────────────────────┼───────────────┤\n",
       "│ dense_16 (\u001b[38;5;33mDense\u001b[0m)                │ (\u001b[38;5;45mNone\u001b[0m, \u001b[38;5;34m32\u001b[0m)             │         \u001b[38;5;34m2,080\u001b[0m │\n",
       "├─────────────────────────────────┼────────────────────────┼───────────────┤\n",
       "│ dense_17 (\u001b[38;5;33mDense\u001b[0m)                │ (\u001b[38;5;45mNone\u001b[0m, \u001b[38;5;34m13\u001b[0m)             │           \u001b[38;5;34m429\u001b[0m │\n",
       "└─────────────────────────────────┴────────────────────────┴───────────────┘\n"
      ]
     },
     "metadata": {},
     "output_type": "display_data"
    },
    {
     "data": {
      "text/html": [
       "<pre style=\"white-space:pre;overflow-x:auto;line-height:normal;font-family:Menlo,'DejaVu Sans Mono',consolas,'Courier New',monospace\"><span style=\"font-weight: bold\"> Total params: </span><span style=\"color: #00af00; text-decoration-color: #00af00\">1,534,093</span> (5.85 MB)\n",
       "</pre>\n"
      ],
      "text/plain": [
       "\u001b[1m Total params: \u001b[0m\u001b[38;5;34m1,534,093\u001b[0m (5.85 MB)\n"
      ]
     },
     "metadata": {},
     "output_type": "display_data"
    },
    {
     "data": {
      "text/html": [
       "<pre style=\"white-space:pre;overflow-x:auto;line-height:normal;font-family:Menlo,'DejaVu Sans Mono',consolas,'Courier New',monospace\"><span style=\"font-weight: bold\"> Trainable params: </span><span style=\"color: #00af00; text-decoration-color: #00af00\">1,534,093</span> (5.85 MB)\n",
       "</pre>\n"
      ],
      "text/plain": [
       "\u001b[1m Trainable params: \u001b[0m\u001b[38;5;34m1,534,093\u001b[0m (5.85 MB)\n"
      ]
     },
     "metadata": {},
     "output_type": "display_data"
    },
    {
     "data": {
      "text/html": [
       "<pre style=\"white-space:pre;overflow-x:auto;line-height:normal;font-family:Menlo,'DejaVu Sans Mono',consolas,'Courier New',monospace\"><span style=\"font-weight: bold\"> Non-trainable params: </span><span style=\"color: #00af00; text-decoration-color: #00af00\">0</span> (0.00 B)\n",
       "</pre>\n"
      ],
      "text/plain": [
       "\u001b[1m Non-trainable params: \u001b[0m\u001b[38;5;34m0\u001b[0m (0.00 B)\n"
      ]
     },
     "metadata": {},
     "output_type": "display_data"
    }
   ],
   "source": [
    "cnn_model.summary()"
   ]
  },
  {
   "cell_type": "markdown",
   "metadata": {},
   "source": [
    "# Step 6\n",
    "\n",
    "Train the Model\n",
    "\n",
    "* Note: You can change the number of epochs\n"
   ]
  },
  {
   "cell_type": "code",
   "execution_count": 24,
   "metadata": {},
   "outputs": [
    {
     "name": "stdout",
     "output_type": "stream",
     "text": [
      "Epoch 1/100\n",
      "2/2 - 1s - 744ms/step - accuracy: 0.1081 - loss: 2.6732 - val_accuracy: 0.0000e+00 - val_loss: 2.7206\n",
      "Epoch 2/100\n",
      "2/2 - 0s - 144ms/step - accuracy: 0.2162 - loss: 2.4972 - val_accuracy: 0.0000e+00 - val_loss: 2.6146\n",
      "Epoch 3/100\n",
      "2/2 - 0s - 141ms/step - accuracy: 0.0946 - loss: 2.5239 - val_accuracy: 0.0000e+00 - val_loss: 2.6005\n",
      "Epoch 4/100\n",
      "2/2 - 0s - 145ms/step - accuracy: 0.1419 - loss: 2.4883 - val_accuracy: 0.0000e+00 - val_loss: 2.6489\n",
      "Epoch 5/100\n",
      "2/2 - 0s - 153ms/step - accuracy: 0.1892 - loss: 2.3786 - val_accuracy: 0.0000e+00 - val_loss: 2.7131\n",
      "Epoch 6/100\n",
      "2/2 - 0s - 150ms/step - accuracy: 0.2230 - loss: 2.3118 - val_accuracy: 0.0000e+00 - val_loss: 2.7753\n",
      "Epoch 7/100\n",
      "2/2 - 0s - 138ms/step - accuracy: 0.4459 - loss: 2.1310 - val_accuracy: 0.0000e+00 - val_loss: 2.7431\n",
      "Epoch 8/100\n",
      "2/2 - 0s - 134ms/step - accuracy: 0.4797 - loss: 1.9049 - val_accuracy: 0.0000e+00 - val_loss: 2.8828\n",
      "Epoch 9/100\n",
      "2/2 - 0s - 132ms/step - accuracy: 0.3243 - loss: 1.8511 - val_accuracy: 0.1250 - val_loss: 2.5897\n",
      "Epoch 10/100\n",
      "2/2 - 0s - 131ms/step - accuracy: 0.4932 - loss: 1.7310 - val_accuracy: 0.2500 - val_loss: 2.3911\n",
      "Epoch 11/100\n",
      "2/2 - 0s - 133ms/step - accuracy: 0.5608 - loss: 1.7366 - val_accuracy: 0.2500 - val_loss: 2.2673\n",
      "Epoch 12/100\n",
      "2/2 - 0s - 134ms/step - accuracy: 0.7297 - loss: 1.3397 - val_accuracy: 0.3750 - val_loss: 2.3035\n",
      "Epoch 13/100\n",
      "2/2 - 0s - 132ms/step - accuracy: 0.7027 - loss: 1.2787 - val_accuracy: 0.6250 - val_loss: 1.8945\n",
      "Epoch 14/100\n",
      "2/2 - 0s - 132ms/step - accuracy: 0.7703 - loss: 1.0682 - val_accuracy: 0.7500 - val_loss: 1.7090\n",
      "Epoch 15/100\n",
      "2/2 - 0s - 135ms/step - accuracy: 0.8041 - loss: 0.8281 - val_accuracy: 0.7500 - val_loss: 1.8829\n",
      "Epoch 16/100\n",
      "2/2 - 0s - 131ms/step - accuracy: 0.8108 - loss: 0.6614 - val_accuracy: 0.2500 - val_loss: 1.9575\n",
      "Epoch 17/100\n",
      "2/2 - 0s - 135ms/step - accuracy: 0.8176 - loss: 0.7135 - val_accuracy: 0.3750 - val_loss: 1.4563\n",
      "Epoch 18/100\n",
      "2/2 - 0s - 134ms/step - accuracy: 0.8581 - loss: 0.5630 - val_accuracy: 0.6250 - val_loss: 1.1184\n",
      "Epoch 19/100\n",
      "2/2 - 0s - 132ms/step - accuracy: 0.9189 - loss: 0.3316 - val_accuracy: 0.5000 - val_loss: 1.0442\n",
      "Epoch 20/100\n",
      "2/2 - 0s - 134ms/step - accuracy: 0.9324 - loss: 0.2724 - val_accuracy: 0.5000 - val_loss: 1.2202\n",
      "Epoch 21/100\n",
      "2/2 - 0s - 133ms/step - accuracy: 0.9459 - loss: 0.1958 - val_accuracy: 0.6250 - val_loss: 0.7788\n",
      "Epoch 22/100\n",
      "2/2 - 0s - 136ms/step - accuracy: 0.9662 - loss: 0.2214 - val_accuracy: 0.7500 - val_loss: 0.6723\n",
      "Epoch 23/100\n",
      "2/2 - 0s - 138ms/step - accuracy: 0.9932 - loss: 0.0994 - val_accuracy: 0.6250 - val_loss: 0.7281\n",
      "Epoch 24/100\n",
      "2/2 - 0s - 135ms/step - accuracy: 0.9797 - loss: 0.0525 - val_accuracy: 0.7500 - val_loss: 0.7634\n",
      "Epoch 25/100\n",
      "2/2 - 0s - 139ms/step - accuracy: 0.9797 - loss: 0.0510 - val_accuracy: 0.7500 - val_loss: 0.6956\n",
      "Epoch 26/100\n",
      "2/2 - 0s - 135ms/step - accuracy: 0.9932 - loss: 0.0297 - val_accuracy: 0.7500 - val_loss: 0.7080\n",
      "Epoch 27/100\n",
      "2/2 - 0s - 133ms/step - accuracy: 1.0000 - loss: 0.0254 - val_accuracy: 0.7500 - val_loss: 0.8161\n",
      "Epoch 28/100\n",
      "2/2 - 0s - 134ms/step - accuracy: 0.9932 - loss: 0.0350 - val_accuracy: 0.7500 - val_loss: 0.8900\n",
      "Epoch 29/100\n",
      "2/2 - 0s - 135ms/step - accuracy: 1.0000 - loss: 0.0145 - val_accuracy: 0.5000 - val_loss: 1.4562\n",
      "Epoch 30/100\n",
      "2/2 - 0s - 134ms/step - accuracy: 0.9797 - loss: 0.0429 - val_accuracy: 0.7500 - val_loss: 1.0700\n",
      "Epoch 31/100\n",
      "2/2 - 0s - 149ms/step - accuracy: 1.0000 - loss: 0.0188 - val_accuracy: 0.7500 - val_loss: 0.7954\n",
      "Epoch 32/100\n",
      "2/2 - 0s - 145ms/step - accuracy: 0.9932 - loss: 0.0149 - val_accuracy: 0.7500 - val_loss: 0.5693\n",
      "Epoch 33/100\n",
      "2/2 - 0s - 137ms/step - accuracy: 1.0000 - loss: 0.0178 - val_accuracy: 0.7500 - val_loss: 0.6701\n",
      "Epoch 34/100\n",
      "2/2 - 0s - 150ms/step - accuracy: 0.9932 - loss: 0.0326 - val_accuracy: 0.7500 - val_loss: 0.7788\n",
      "Epoch 35/100\n",
      "2/2 - 0s - 140ms/step - accuracy: 1.0000 - loss: 0.0055 - val_accuracy: 0.6250 - val_loss: 1.7347\n",
      "Epoch 36/100\n",
      "2/2 - 0s - 137ms/step - accuracy: 0.9932 - loss: 0.0496 - val_accuracy: 0.6250 - val_loss: 1.2426\n",
      "Epoch 37/100\n",
      "2/2 - 0s - 147ms/step - accuracy: 1.0000 - loss: 0.0075 - val_accuracy: 0.8750 - val_loss: 0.9824\n",
      "Epoch 38/100\n",
      "2/2 - 0s - 135ms/step - accuracy: 1.0000 - loss: 0.0206 - val_accuracy: 0.8750 - val_loss: 0.7586\n",
      "Epoch 39/100\n",
      "2/2 - 0s - 132ms/step - accuracy: 0.9865 - loss: 0.0362 - val_accuracy: 0.8750 - val_loss: 0.3407\n",
      "Epoch 40/100\n",
      "2/2 - 0s - 138ms/step - accuracy: 1.0000 - loss: 0.0040 - val_accuracy: 0.7500 - val_loss: 0.7005\n",
      "Epoch 41/100\n",
      "2/2 - 0s - 136ms/step - accuracy: 1.0000 - loss: 0.0092 - val_accuracy: 0.6250 - val_loss: 1.3774\n",
      "Epoch 42/100\n",
      "2/2 - 0s - 137ms/step - accuracy: 0.9932 - loss: 0.0246 - val_accuracy: 0.6250 - val_loss: 1.0834\n",
      "Epoch 43/100\n",
      "2/2 - 0s - 136ms/step - accuracy: 1.0000 - loss: 0.0078 - val_accuracy: 0.7500 - val_loss: 0.6906\n",
      "Epoch 44/100\n",
      "2/2 - 0s - 133ms/step - accuracy: 1.0000 - loss: 0.0029 - val_accuracy: 0.7500 - val_loss: 0.7553\n",
      "Epoch 45/100\n",
      "2/2 - 0s - 139ms/step - accuracy: 1.0000 - loss: 0.0027 - val_accuracy: 0.7500 - val_loss: 1.0644\n",
      "Epoch 46/100\n",
      "2/2 - 0s - 133ms/step - accuracy: 1.0000 - loss: 0.0080 - val_accuracy: 0.7500 - val_loss: 1.2941\n",
      "Epoch 47/100\n",
      "2/2 - 0s - 134ms/step - accuracy: 1.0000 - loss: 0.0054 - val_accuracy: 0.7500 - val_loss: 1.4103\n",
      "Epoch 48/100\n",
      "2/2 - 0s - 137ms/step - accuracy: 1.0000 - loss: 0.0018 - val_accuracy: 0.7500 - val_loss: 1.4721\n",
      "Epoch 49/100\n",
      "2/2 - 0s - 135ms/step - accuracy: 1.0000 - loss: 9.7626e-04 - val_accuracy: 0.7500 - val_loss: 1.5113\n",
      "Epoch 50/100\n",
      "2/2 - 0s - 134ms/step - accuracy: 1.0000 - loss: 6.6951e-04 - val_accuracy: 0.7500 - val_loss: 1.5330\n",
      "Epoch 51/100\n",
      "2/2 - 0s - 139ms/step - accuracy: 1.0000 - loss: 0.0012 - val_accuracy: 0.7500 - val_loss: 1.5185\n",
      "Epoch 52/100\n",
      "2/2 - 0s - 138ms/step - accuracy: 1.0000 - loss: 0.0010 - val_accuracy: 0.7500 - val_loss: 1.4879\n",
      "Epoch 53/100\n",
      "2/2 - 0s - 144ms/step - accuracy: 1.0000 - loss: 0.0011 - val_accuracy: 0.7500 - val_loss: 1.4508\n",
      "Epoch 54/100\n",
      "2/2 - 0s - 144ms/step - accuracy: 1.0000 - loss: 0.0011 - val_accuracy: 0.7500 - val_loss: 1.4053\n",
      "Epoch 55/100\n",
      "2/2 - 0s - 143ms/step - accuracy: 1.0000 - loss: 0.0017 - val_accuracy: 0.7500 - val_loss: 1.3517\n",
      "Epoch 56/100\n",
      "2/2 - 0s - 134ms/step - accuracy: 1.0000 - loss: 7.6641e-04 - val_accuracy: 0.7500 - val_loss: 1.2981\n",
      "Epoch 57/100\n",
      "2/2 - 0s - 136ms/step - accuracy: 1.0000 - loss: 4.4703e-04 - val_accuracy: 0.7500 - val_loss: 1.2548\n",
      "Epoch 58/100\n",
      "2/2 - 0s - 137ms/step - accuracy: 1.0000 - loss: 3.8815e-04 - val_accuracy: 0.7500 - val_loss: 1.2209\n",
      "Epoch 59/100\n",
      "2/2 - 0s - 137ms/step - accuracy: 1.0000 - loss: 4.3456e-04 - val_accuracy: 0.7500 - val_loss: 1.1937\n",
      "Epoch 60/100\n",
      "2/2 - 0s - 134ms/step - accuracy: 1.0000 - loss: 3.9515e-04 - val_accuracy: 0.7500 - val_loss: 1.1706\n",
      "Epoch 61/100\n",
      "2/2 - 0s - 136ms/step - accuracy: 1.0000 - loss: 3.9252e-04 - val_accuracy: 0.7500 - val_loss: 1.1531\n",
      "Epoch 62/100\n",
      "2/2 - 0s - 134ms/step - accuracy: 1.0000 - loss: 4.7754e-04 - val_accuracy: 0.7500 - val_loss: 1.1396\n",
      "Epoch 63/100\n",
      "2/2 - 0s - 136ms/step - accuracy: 1.0000 - loss: 4.0059e-04 - val_accuracy: 0.7500 - val_loss: 1.1273\n",
      "Epoch 64/100\n",
      "2/2 - 0s - 139ms/step - accuracy: 1.0000 - loss: 2.7086e-04 - val_accuracy: 0.7500 - val_loss: 1.1163\n",
      "Epoch 65/100\n",
      "2/2 - 0s - 139ms/step - accuracy: 1.0000 - loss: 2.6515e-04 - val_accuracy: 0.7500 - val_loss: 1.1072\n",
      "Epoch 66/100\n",
      "2/2 - 0s - 137ms/step - accuracy: 1.0000 - loss: 3.1051e-04 - val_accuracy: 0.7500 - val_loss: 1.0986\n",
      "Epoch 67/100\n",
      "2/2 - 0s - 137ms/step - accuracy: 1.0000 - loss: 2.1354e-04 - val_accuracy: 0.7500 - val_loss: 1.0911\n",
      "Epoch 68/100\n",
      "2/2 - 0s - 137ms/step - accuracy: 1.0000 - loss: 2.2879e-04 - val_accuracy: 0.7500 - val_loss: 1.0853\n",
      "Epoch 69/100\n",
      "2/2 - 0s - 136ms/step - accuracy: 1.0000 - loss: 1.7357e-04 - val_accuracy: 0.7500 - val_loss: 1.0810\n",
      "Epoch 70/100\n",
      "2/2 - 0s - 135ms/step - accuracy: 1.0000 - loss: 1.9850e-04 - val_accuracy: 0.7500 - val_loss: 1.0768\n",
      "Epoch 71/100\n",
      "2/2 - 0s - 137ms/step - accuracy: 1.0000 - loss: 1.8427e-04 - val_accuracy: 0.7500 - val_loss: 1.0712\n",
      "Epoch 72/100\n",
      "2/2 - 0s - 138ms/step - accuracy: 1.0000 - loss: 1.8310e-04 - val_accuracy: 0.7500 - val_loss: 1.0649\n",
      "Epoch 73/100\n",
      "2/2 - 0s - 139ms/step - accuracy: 1.0000 - loss: 2.0730e-04 - val_accuracy: 0.7500 - val_loss: 1.0582\n",
      "Epoch 74/100\n",
      "2/2 - 0s - 132ms/step - accuracy: 1.0000 - loss: 1.6772e-04 - val_accuracy: 0.7500 - val_loss: 1.0522\n",
      "Epoch 75/100\n",
      "2/2 - 0s - 134ms/step - accuracy: 1.0000 - loss: 1.8294e-04 - val_accuracy: 0.7500 - val_loss: 1.0469\n",
      "Epoch 76/100\n",
      "2/2 - 0s - 135ms/step - accuracy: 1.0000 - loss: 1.8952e-04 - val_accuracy: 0.7500 - val_loss: 1.0416\n",
      "Epoch 77/100\n",
      "2/2 - 0s - 131ms/step - accuracy: 1.0000 - loss: 1.9675e-04 - val_accuracy: 0.7500 - val_loss: 1.0359\n",
      "Epoch 78/100\n",
      "2/2 - 0s - 136ms/step - accuracy: 1.0000 - loss: 1.6556e-04 - val_accuracy: 0.7500 - val_loss: 1.0301\n",
      "Epoch 79/100\n",
      "2/2 - 0s - 141ms/step - accuracy: 1.0000 - loss: 1.5094e-04 - val_accuracy: 0.7500 - val_loss: 1.0244\n",
      "Epoch 80/100\n",
      "2/2 - 0s - 142ms/step - accuracy: 1.0000 - loss: 1.3664e-04 - val_accuracy: 0.7500 - val_loss: 1.0190\n",
      "Epoch 81/100\n",
      "2/2 - 0s - 145ms/step - accuracy: 1.0000 - loss: 1.6151e-04 - val_accuracy: 0.7500 - val_loss: 1.0137\n",
      "Epoch 82/100\n",
      "2/2 - 0s - 142ms/step - accuracy: 1.0000 - loss: 1.3663e-04 - val_accuracy: 0.7500 - val_loss: 1.0087\n",
      "Epoch 83/100\n",
      "2/2 - 0s - 142ms/step - accuracy: 1.0000 - loss: 1.2683e-04 - val_accuracy: 0.7500 - val_loss: 1.0043\n",
      "Epoch 84/100\n",
      "2/2 - 0s - 156ms/step - accuracy: 1.0000 - loss: 1.4962e-04 - val_accuracy: 0.7500 - val_loss: 0.9999\n",
      "Epoch 85/100\n",
      "2/2 - 0s - 137ms/step - accuracy: 1.0000 - loss: 1.7146e-04 - val_accuracy: 0.7500 - val_loss: 0.9953\n",
      "Epoch 86/100\n",
      "2/2 - 0s - 145ms/step - accuracy: 1.0000 - loss: 1.3901e-04 - val_accuracy: 0.7500 - val_loss: 0.9908\n",
      "Epoch 87/100\n",
      "2/2 - 0s - 134ms/step - accuracy: 1.0000 - loss: 1.3518e-04 - val_accuracy: 0.7500 - val_loss: 0.9871\n",
      "Epoch 88/100\n",
      "2/2 - 0s - 135ms/step - accuracy: 1.0000 - loss: 1.4645e-04 - val_accuracy: 0.7500 - val_loss: 0.9844\n",
      "Epoch 89/100\n",
      "2/2 - 0s - 134ms/step - accuracy: 1.0000 - loss: 1.4117e-04 - val_accuracy: 0.7500 - val_loss: 0.9821\n",
      "Epoch 90/100\n",
      "2/2 - 0s - 137ms/step - accuracy: 1.0000 - loss: 1.1672e-04 - val_accuracy: 0.7500 - val_loss: 0.9802\n",
      "Epoch 91/100\n",
      "2/2 - 0s - 133ms/step - accuracy: 1.0000 - loss: 1.1933e-04 - val_accuracy: 0.7500 - val_loss: 0.9779\n",
      "Epoch 92/100\n",
      "2/2 - 0s - 134ms/step - accuracy: 1.0000 - loss: 1.3018e-04 - val_accuracy: 0.7500 - val_loss: 0.9753\n",
      "Epoch 93/100\n",
      "2/2 - 0s - 130ms/step - accuracy: 1.0000 - loss: 1.1349e-04 - val_accuracy: 0.7500 - val_loss: 0.9728\n",
      "Epoch 94/100\n",
      "2/2 - 0s - 135ms/step - accuracy: 1.0000 - loss: 9.8919e-05 - val_accuracy: 0.7500 - val_loss: 0.9704\n",
      "Epoch 95/100\n",
      "2/2 - 0s - 145ms/step - accuracy: 1.0000 - loss: 1.2715e-04 - val_accuracy: 0.7500 - val_loss: 0.9676\n",
      "Epoch 96/100\n",
      "2/2 - 0s - 149ms/step - accuracy: 1.0000 - loss: 1.0825e-04 - val_accuracy: 0.7500 - val_loss: 0.9640\n",
      "Epoch 97/100\n",
      "2/2 - 0s - 142ms/step - accuracy: 1.0000 - loss: 1.2740e-04 - val_accuracy: 0.7500 - val_loss: 0.9598\n",
      "Epoch 98/100\n",
      "2/2 - 0s - 137ms/step - accuracy: 1.0000 - loss: 1.3483e-04 - val_accuracy: 0.7500 - val_loss: 0.9544\n",
      "Epoch 99/100\n",
      "2/2 - 0s - 137ms/step - accuracy: 1.0000 - loss: 1.0770e-04 - val_accuracy: 0.7500 - val_loss: 0.9487\n",
      "Epoch 100/100\n",
      "2/2 - 0s - 141ms/step - accuracy: 1.0000 - loss: 1.2798e-04 - val_accuracy: 0.7500 - val_loss: 0.9434\n"
     ]
    }
   ],
   "source": [
    "history=cnn_model.fit(\n",
    "    x_train, \n",
    "    y_train, \n",
    "    batch_size=128,\n",
    "    epochs=100, \n",
    "    verbose=2,\n",
    "    validation_data=(x_valid,y_valid),\n",
    ")"
   ]
  },
  {
   "cell_type": "markdown",
   "metadata": {},
   "source": [
    "Evaluate the test data\n"
   ]
  },
  {
   "cell_type": "code",
   "execution_count": 25,
   "metadata": {},
   "outputs": [
    {
     "name": "stdout",
     "output_type": "stream",
     "text": [
      "test los 0.4223\n",
      "test acc 0.9104\n"
     ]
    }
   ],
   "source": [
    "scor = cnn_model.evaluate( np.array(x_test),  np.array(y_test), verbose=0)\n",
    "cnn_model.save('models/cnn.keras')\n",
    "\n",
    "print('test los {:.4f}'.format(scor[0]))\n",
    "print('test acc {:.4f}'.format(scor[1]))"
   ]
  },
  {
   "cell_type": "markdown",
   "metadata": {},
   "source": [
    "# Step 7 \n",
    "\n",
    "plot the result"
   ]
  },
  {
   "cell_type": "code",
   "execution_count": 17,
   "metadata": {},
   "outputs": [
    {
     "name": "stdout",
     "output_type": "stream",
     "text": [
      "dict_keys(['accuracy', 'loss', 'val_accuracy', 'val_loss'])\n"
     ]
    },
    {
     "data": {
      "image/png": "[encoded data removed]",
      "text/plain": [
       "<Figure size 640x480 with 1 Axes>"
      ]
     },
     "metadata": {},
     "output_type": "display_data"
    },
    {
     "data": {
      "image/png": "[encoded data removed]",
      "text/plain": [
       "<Figure size 640x480 with 1 Axes>"
      ]
     },
     "metadata": {},
     "output_type": "display_data"
    }
   ],
   "source": [
    "# list all data in history\n",
    "print(history.history.keys())\n",
    "# summarize history for accuracy\n",
    "plt.plot(history.history['accuracy'])\n",
    "plt.plot(history.history['val_accuracy'])\n",
    "plt.title('model accuracy')\n",
    "plt.ylabel('accuracy')\n",
    "plt.xlabel('epoch')\n",
    "plt.legend(['train', 'test'], loc='upper left')\n",
    "plt.show()\n",
    "# summarize history for loss\n",
    "plt.plot(history.history['loss'])\n",
    "plt.plot(history.history['val_loss'])\n",
    "plt.title('model loss')\n",
    "plt.ylabel('loss')\n",
    "plt.xlabel('epoch')\n",
    "plt.legend(['train', 'test'], loc='upper left')\n",
    "plt.show()"
   ]
  }
 ],
 "metadata": {
  "kernelspec": {
   "display_name": "Python 3",
   "language": "python",
   "name": "python3"
  },
  "language_info": {
   "codemirror_mode": {
    "name": "ipython",
    "version": 3
   },
   "file_extension": ".py",
   "mimetype": "text/x-python",
   "name": "python",
   "nbconvert_exporter": "python",
   "pygments_lexer": "ipython3",
   "version": "3.12.2"
  }
 },
 "nbformat": 4,
 "nbformat_minor": 2
}
