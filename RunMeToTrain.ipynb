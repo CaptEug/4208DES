{
 "cells": [
  {
   "cell_type": "markdown",
   "metadata": {},
   "source": [
    "# Face Recognition using CNN"
   ]
  },
  {
   "cell_type": "markdown",
   "metadata": {},
   "source": [
    " # Step1:\n",
    " \n",
    "At the first, you should input the required libraries:"
   ]
  },
  {
   "cell_type": "code",
   "execution_count": 1,
   "metadata": {},
   "outputs": [],
   "source": [
    "import keras\n",
    "from keras.models import Sequential\n",
    "from keras.layers import Conv2D, MaxPooling2D, Dense, Flatten, Input, Dropout\n",
    "import tensorflow as tf\n",
    "\n",
    "import numpy as np\n",
    "import matplotlib.pyplot as plt\n",
    "from sklearn.model_selection import train_test_split"
   ]
  },
  {
   "cell_type": "markdown",
   "metadata": {},
   "source": [
    "# Step2:\n",
    "\n",
    "* Load Dataset :\n",
    "\n",
    "After loading the Dataset you have to normalize every image.\n",
    "\n",
    "Note: an image is a Uint8 matrix of pixels and for calculation, you need to convert the format of the image to float or double"
   ]
  },
  {
   "cell_type": "code",
   "execution_count": 2,
   "metadata": {},
   "outputs": [
    {
     "name": "stdout",
     "output_type": "stream",
     "text": [
      "x_train : [[1.         0.99607843 0.99215686 ... 0.69411767 0.69803923 0.69803923]\n",
      " [1.         1.         0.99215686 ... 0.2        0.22745098 0.16470589]\n",
      " [0.9647059  0.972549   0.9254902  ... 0.85490197 0.8745098  0.8745098 ]\n",
      " ...\n",
      " [1.         0.99215686 1.         ... 0.16862746 0.14901961 0.15294118]\n",
      " [0.2627451  0.2784314  0.26666668 ... 0.2627451  0.2627451  0.27450982]\n",
      " [1.         0.9882353  1.         ... 0.07450981 0.08235294 0.08235294]]\n",
      "y_train : [1 2 4 0 5 2 4 3 4 3 1 1 3 5 4 5 1 0 0 1 1 1 3 4 2 0 4 2 0 5 3 1 3 3 2 0 5\n",
      " 0 1 5 3 4 0 0 1 0 0 0 0 4 5 2 2 3 5 4 4 3 5 5 2 2 1 1 3 1 1 5 3 2 5 3]\n",
      "y_train shape: (72,)\n",
      "x_train shape: (72, 8100)\n"
     ]
    }
   ],
   "source": [
    "#load dataset\n",
    "x_data = np.load(\"trainset/train_x.npy\")\n",
    "y_data = np.load(\"trainset/train_y.npy\")\n",
    "\n",
    "\n",
    "#normalize every image\n",
    "x_data= np.array(x_data,dtype='float32')/255\n",
    "\n",
    "#train test split\n",
    "x_train, x_test, y_train, y_test= train_test_split(\n",
    "    x_data, y_data, test_size=.2, random_state=1234,)\n",
    "# show the train and test Data format\n",
    "print('x_train : {}'.format(x_train[:]))\n",
    "print('y_train : {}'.format(y_train))\n",
    "print('y_train shape: {}'.format(y_train.shape))\n",
    "print('x_train shape: {}'.format(x_train.shape))"
   ]
  },
  {
   "cell_type": "markdown",
   "metadata": {},
   "source": [
    "# Step 3\n",
    "\n",
    "Split DataSet : Validation data and Train \n",
    "\n",
    "Validation DataSet: this data set is used to minimize overfitting.If the accuracy over the training data set increases, but the accuracy over then validation data set stays the same or decreases, then you're overfitting your neural network and you should stop training.\n",
    "\n",
    " * Note: we usually use 30 percent of every dataset as the validation data but Here we only used 5 percent because the number of images in this dataset is very low. \n",
    "\n"
   ]
  },
  {
   "cell_type": "code",
   "execution_count": 3,
   "metadata": {},
   "outputs": [],
   "source": [
    "x_train, x_valid, y_train, y_valid= train_test_split(\n",
    "    x_train, y_train, test_size=.05, random_state=1234,)"
   ]
  },
  {
   "cell_type": "markdown",
   "metadata": {},
   "source": [
    "# Step 4\n",
    "\n",
    "for using the CNN, we need to change The size of images ( The size of images must be the same)"
   ]
  },
  {
   "cell_type": "code",
   "execution_count": 4,
   "metadata": {},
   "outputs": [
    {
     "name": "stdout",
     "output_type": "stream",
     "text": [
      "[[[0.83137256]\n",
      "  [0.83137256]\n",
      "  [0.8352941 ]\n",
      "  ...\n",
      "  [0.8509804 ]\n",
      "  [0.8392157 ]\n",
      "  [0.8392157 ]]\n",
      "\n",
      " [[0.827451  ]\n",
      "  [0.8235294 ]\n",
      "  [0.8392157 ]\n",
      "  ...\n",
      "  [0.8509804 ]\n",
      "  [0.8509804 ]\n",
      "  [0.8509804 ]]\n",
      "\n",
      " [[0.8352941 ]\n",
      "  [0.84313726]\n",
      "  [0.827451  ]\n",
      "  ...\n",
      "  [0.8509804 ]\n",
      "  [0.85490197]\n",
      "  [0.85490197]]\n",
      "\n",
      " ...\n",
      "\n",
      " [[0.7607843 ]\n",
      "  [0.28627452]\n",
      "  [0.11372549]\n",
      "  ...\n",
      "  [1.        ]\n",
      "  [1.        ]\n",
      "  [1.        ]]\n",
      "\n",
      " [[0.1764706 ]\n",
      "  [0.15294118]\n",
      "  [0.11372549]\n",
      "  ...\n",
      "  [0.9882353 ]\n",
      "  [1.        ]\n",
      "  [1.        ]]\n",
      "\n",
      " [[0.14509805]\n",
      "  [0.1254902 ]\n",
      "  [0.09411765]\n",
      "  ...\n",
      "  [0.99607843]\n",
      "  [1.        ]\n",
      "  [1.        ]]]\n",
      "x_train shape: (68, 90, 90, 1)\n",
      "x_test shape: (18, 90, 90, 1)\n"
     ]
    }
   ],
   "source": [
    "im_rows=90\n",
    "im_cols=90\n",
    "im_shape=(im_rows, im_cols, 1)\n",
    "\n",
    "#change the size of images\n",
    "x_train = x_train.reshape(x_train.shape[0], *im_shape)\n",
    "x_test = x_test.reshape(x_test.shape[0], *im_shape)\n",
    "x_valid = x_valid.reshape(x_valid.shape[0], *im_shape)\n",
    "\n",
    "print(x_train[0])\n",
    "print('x_train shape: {}'.format(x_train.shape))\n",
    "print('x_test shape: {}'.format(x_test.shape))"
   ]
  },
  {
   "cell_type": "markdown",
   "metadata": {},
   "source": [
    "# Step 5\n",
    "\n",
    "\n",
    "Build CNN model:\n",
    " CNN have 3 main layer: \n",
    " * 1-Convolotional layer \n",
    " * 2- pooling layer  \n",
    " * 3- fully connected layer\n",
    " \n",
    " we could build a new architecture of CNN by changing the number and position of layers.\n",
    " "
   ]
  },
  {
   "cell_type": "code",
   "execution_count": 15,
   "metadata": {},
   "outputs": [],
   "source": [
    "\n",
    "#filters= the depth of output image or kernels\n",
    "output_num = 6\n",
    "\n",
    "cnn_model= Sequential([\n",
    "    Input(shape = im_shape),\n",
    "    Conv2D(filters=32, kernel_size=6, activation='relu'),\n",
    "    MaxPooling2D(pool_size=2),\n",
    "    Conv2D(filters=64, kernel_size=4, activation='relu'),\n",
    "    MaxPooling2D(pool_size=2),\n",
    "    Flatten(),\n",
    "    Dense(128, activation='relu'),\n",
    "    Dropout(0.2),\n",
    "    Dense(64, activation='relu'),\n",
    "    Dropout(0.2),\n",
    "    Dense(32, activation='relu'),\n",
    "    Dropout(0.2),\n",
    "    Dense(output_num, activation='sigmoid')\n",
    "])\n",
    "\n",
    "cnn_model.compile(\n",
    "    optimizer=\"adam\",\n",
    "    loss='sparse_categorical_crossentropy',\n",
    "    metrics=['accuracy']\n",
    ")"
   ]
  },
  {
   "cell_type": "markdown",
   "metadata": {},
   "source": [
    "Show the model's parameters."
   ]
  },
  {
   "cell_type": "code",
   "execution_count": 16,
   "metadata": {},
   "outputs": [
    {
     "data": {
      "text/html": [
       "<pre style=\"white-space:pre;overflow-x:auto;line-height:normal;font-family:Menlo,'DejaVu Sans Mono',consolas,'Courier New',monospace\"><span style=\"font-weight: bold\">Model: \"sequential_2\"</span>\n",
       "</pre>\n"
      ],
      "text/plain": [
       "\u001b[1mModel: \"sequential_2\"\u001b[0m\n"
      ]
     },
     "metadata": {},
     "output_type": "display_data"
    },
    {
     "data": {
      "text/html": [
       "<pre style=\"white-space:pre;overflow-x:auto;line-height:normal;font-family:Menlo,'DejaVu Sans Mono',consolas,'Courier New',monospace\">┏━━━━━━━━━━━━━━━━━━━━━━━━━━━━━━━━━┳━━━━━━━━━━━━━━━━━━━━━━━━┳━━━━━━━━━━━━━━━┓\n",
       "┃<span style=\"font-weight: bold\"> Layer (type)                    </span>┃<span style=\"font-weight: bold\"> Output Shape           </span>┃<span style=\"font-weight: bold\">       Param # </span>┃\n",
       "┡━━━━━━━━━━━━━━━━━━━━━━━━━━━━━━━━━╇━━━━━━━━━━━━━━━━━━━━━━━━╇━━━━━━━━━━━━━━━┩\n",
       "│ conv2d_4 (<span style=\"color: #0087ff; text-decoration-color: #0087ff\">Conv2D</span>)               │ (<span style=\"color: #00d7ff; text-decoration-color: #00d7ff\">None</span>, <span style=\"color: #00af00; text-decoration-color: #00af00\">85</span>, <span style=\"color: #00af00; text-decoration-color: #00af00\">85</span>, <span style=\"color: #00af00; text-decoration-color: #00af00\">32</span>)     │         <span style=\"color: #00af00; text-decoration-color: #00af00\">1,184</span> │\n",
       "├─────────────────────────────────┼────────────────────────┼───────────────┤\n",
       "│ max_pooling2d_4 (<span style=\"color: #0087ff; text-decoration-color: #0087ff\">MaxPooling2D</span>)  │ (<span style=\"color: #00d7ff; text-decoration-color: #00d7ff\">None</span>, <span style=\"color: #00af00; text-decoration-color: #00af00\">42</span>, <span style=\"color: #00af00; text-decoration-color: #00af00\">42</span>, <span style=\"color: #00af00; text-decoration-color: #00af00\">32</span>)     │             <span style=\"color: #00af00; text-decoration-color: #00af00\">0</span> │\n",
       "├─────────────────────────────────┼────────────────────────┼───────────────┤\n",
       "│ conv2d_5 (<span style=\"color: #0087ff; text-decoration-color: #0087ff\">Conv2D</span>)               │ (<span style=\"color: #00d7ff; text-decoration-color: #00d7ff\">None</span>, <span style=\"color: #00af00; text-decoration-color: #00af00\">39</span>, <span style=\"color: #00af00; text-decoration-color: #00af00\">39</span>, <span style=\"color: #00af00; text-decoration-color: #00af00\">64</span>)     │        <span style=\"color: #00af00; text-decoration-color: #00af00\">32,832</span> │\n",
       "├─────────────────────────────────┼────────────────────────┼───────────────┤\n",
       "│ max_pooling2d_5 (<span style=\"color: #0087ff; text-decoration-color: #0087ff\">MaxPooling2D</span>)  │ (<span style=\"color: #00d7ff; text-decoration-color: #00d7ff\">None</span>, <span style=\"color: #00af00; text-decoration-color: #00af00\">19</span>, <span style=\"color: #00af00; text-decoration-color: #00af00\">19</span>, <span style=\"color: #00af00; text-decoration-color: #00af00\">64</span>)     │             <span style=\"color: #00af00; text-decoration-color: #00af00\">0</span> │\n",
       "├─────────────────────────────────┼────────────────────────┼───────────────┤\n",
       "│ flatten_2 (<span style=\"color: #0087ff; text-decoration-color: #0087ff\">Flatten</span>)             │ (<span style=\"color: #00d7ff; text-decoration-color: #00d7ff\">None</span>, <span style=\"color: #00af00; text-decoration-color: #00af00\">23104</span>)          │             <span style=\"color: #00af00; text-decoration-color: #00af00\">0</span> │\n",
       "├─────────────────────────────────┼────────────────────────┼───────────────┤\n",
       "│ dense_8 (<span style=\"color: #0087ff; text-decoration-color: #0087ff\">Dense</span>)                 │ (<span style=\"color: #00d7ff; text-decoration-color: #00d7ff\">None</span>, <span style=\"color: #00af00; text-decoration-color: #00af00\">128</span>)            │     <span style=\"color: #00af00; text-decoration-color: #00af00\">2,957,440</span> │\n",
       "├─────────────────────────────────┼────────────────────────┼───────────────┤\n",
       "│ dropout_6 (<span style=\"color: #0087ff; text-decoration-color: #0087ff\">Dropout</span>)             │ (<span style=\"color: #00d7ff; text-decoration-color: #00d7ff\">None</span>, <span style=\"color: #00af00; text-decoration-color: #00af00\">128</span>)            │             <span style=\"color: #00af00; text-decoration-color: #00af00\">0</span> │\n",
       "├─────────────────────────────────┼────────────────────────┼───────────────┤\n",
       "│ dense_9 (<span style=\"color: #0087ff; text-decoration-color: #0087ff\">Dense</span>)                 │ (<span style=\"color: #00d7ff; text-decoration-color: #00d7ff\">None</span>, <span style=\"color: #00af00; text-decoration-color: #00af00\">64</span>)             │         <span style=\"color: #00af00; text-decoration-color: #00af00\">8,256</span> │\n",
       "├─────────────────────────────────┼────────────────────────┼───────────────┤\n",
       "│ dropout_7 (<span style=\"color: #0087ff; text-decoration-color: #0087ff\">Dropout</span>)             │ (<span style=\"color: #00d7ff; text-decoration-color: #00d7ff\">None</span>, <span style=\"color: #00af00; text-decoration-color: #00af00\">64</span>)             │             <span style=\"color: #00af00; text-decoration-color: #00af00\">0</span> │\n",
       "├─────────────────────────────────┼────────────────────────┼───────────────┤\n",
       "│ dense_10 (<span style=\"color: #0087ff; text-decoration-color: #0087ff\">Dense</span>)                │ (<span style=\"color: #00d7ff; text-decoration-color: #00d7ff\">None</span>, <span style=\"color: #00af00; text-decoration-color: #00af00\">32</span>)             │         <span style=\"color: #00af00; text-decoration-color: #00af00\">2,080</span> │\n",
       "├─────────────────────────────────┼────────────────────────┼───────────────┤\n",
       "│ dropout_8 (<span style=\"color: #0087ff; text-decoration-color: #0087ff\">Dropout</span>)             │ (<span style=\"color: #00d7ff; text-decoration-color: #00d7ff\">None</span>, <span style=\"color: #00af00; text-decoration-color: #00af00\">32</span>)             │             <span style=\"color: #00af00; text-decoration-color: #00af00\">0</span> │\n",
       "├─────────────────────────────────┼────────────────────────┼───────────────┤\n",
       "│ dense_11 (<span style=\"color: #0087ff; text-decoration-color: #0087ff\">Dense</span>)                │ (<span style=\"color: #00d7ff; text-decoration-color: #00d7ff\">None</span>, <span style=\"color: #00af00; text-decoration-color: #00af00\">6</span>)              │           <span style=\"color: #00af00; text-decoration-color: #00af00\">198</span> │\n",
       "└─────────────────────────────────┴────────────────────────┴───────────────┘\n",
       "</pre>\n"
      ],
      "text/plain": [
       "┏━━━━━━━━━━━━━━━━━━━━━━━━━━━━━━━━━┳━━━━━━━━━━━━━━━━━━━━━━━━┳━━━━━━━━━━━━━━━┓\n",
       "┃\u001b[1m \u001b[0m\u001b[1mLayer (type)                   \u001b[0m\u001b[1m \u001b[0m┃\u001b[1m \u001b[0m\u001b[1mOutput Shape          \u001b[0m\u001b[1m \u001b[0m┃\u001b[1m \u001b[0m\u001b[1m      Param #\u001b[0m\u001b[1m \u001b[0m┃\n",
       "┡━━━━━━━━━━━━━━━━━━━━━━━━━━━━━━━━━╇━━━━━━━━━━━━━━━━━━━━━━━━╇━━━━━━━━━━━━━━━┩\n",
       "│ conv2d_4 (\u001b[38;5;33mConv2D\u001b[0m)               │ (\u001b[38;5;45mNone\u001b[0m, \u001b[38;5;34m85\u001b[0m, \u001b[38;5;34m85\u001b[0m, \u001b[38;5;34m32\u001b[0m)     │         \u001b[38;5;34m1,184\u001b[0m │\n",
       "├─────────────────────────────────┼────────────────────────┼───────────────┤\n",
       "│ max_pooling2d_4 (\u001b[38;5;33mMaxPooling2D\u001b[0m)  │ (\u001b[38;5;45mNone\u001b[0m, \u001b[38;5;34m42\u001b[0m, \u001b[38;5;34m42\u001b[0m, \u001b[38;5;34m32\u001b[0m)     │             \u001b[38;5;34m0\u001b[0m │\n",
       "├─────────────────────────────────┼────────────────────────┼───────────────┤\n",
       "│ conv2d_5 (\u001b[38;5;33mConv2D\u001b[0m)               │ (\u001b[38;5;45mNone\u001b[0m, \u001b[38;5;34m39\u001b[0m, \u001b[38;5;34m39\u001b[0m, \u001b[38;5;34m64\u001b[0m)     │        \u001b[38;5;34m32,832\u001b[0m │\n",
       "├─────────────────────────────────┼────────────────────────┼───────────────┤\n",
       "│ max_pooling2d_5 (\u001b[38;5;33mMaxPooling2D\u001b[0m)  │ (\u001b[38;5;45mNone\u001b[0m, \u001b[38;5;34m19\u001b[0m, \u001b[38;5;34m19\u001b[0m, \u001b[38;5;34m64\u001b[0m)     │             \u001b[38;5;34m0\u001b[0m │\n",
       "├─────────────────────────────────┼────────────────────────┼───────────────┤\n",
       "│ flatten_2 (\u001b[38;5;33mFlatten\u001b[0m)             │ (\u001b[38;5;45mNone\u001b[0m, \u001b[38;5;34m23104\u001b[0m)          │             \u001b[38;5;34m0\u001b[0m │\n",
       "├─────────────────────────────────┼────────────────────────┼───────────────┤\n",
       "│ dense_8 (\u001b[38;5;33mDense\u001b[0m)                 │ (\u001b[38;5;45mNone\u001b[0m, \u001b[38;5;34m128\u001b[0m)            │     \u001b[38;5;34m2,957,440\u001b[0m │\n",
       "├─────────────────────────────────┼────────────────────────┼───────────────┤\n",
       "│ dropout_6 (\u001b[38;5;33mDropout\u001b[0m)             │ (\u001b[38;5;45mNone\u001b[0m, \u001b[38;5;34m128\u001b[0m)            │             \u001b[38;5;34m0\u001b[0m │\n",
       "├─────────────────────────────────┼────────────────────────┼───────────────┤\n",
       "│ dense_9 (\u001b[38;5;33mDense\u001b[0m)                 │ (\u001b[38;5;45mNone\u001b[0m, \u001b[38;5;34m64\u001b[0m)             │         \u001b[38;5;34m8,256\u001b[0m │\n",
       "├─────────────────────────────────┼────────────────────────┼───────────────┤\n",
       "│ dropout_7 (\u001b[38;5;33mDropout\u001b[0m)             │ (\u001b[38;5;45mNone\u001b[0m, \u001b[38;5;34m64\u001b[0m)             │             \u001b[38;5;34m0\u001b[0m │\n",
       "├─────────────────────────────────┼────────────────────────┼───────────────┤\n",
       "│ dense_10 (\u001b[38;5;33mDense\u001b[0m)                │ (\u001b[38;5;45mNone\u001b[0m, \u001b[38;5;34m32\u001b[0m)             │         \u001b[38;5;34m2,080\u001b[0m │\n",
       "├─────────────────────────────────┼────────────────────────┼───────────────┤\n",
       "│ dropout_8 (\u001b[38;5;33mDropout\u001b[0m)             │ (\u001b[38;5;45mNone\u001b[0m, \u001b[38;5;34m32\u001b[0m)             │             \u001b[38;5;34m0\u001b[0m │\n",
       "├─────────────────────────────────┼────────────────────────┼───────────────┤\n",
       "│ dense_11 (\u001b[38;5;33mDense\u001b[0m)                │ (\u001b[38;5;45mNone\u001b[0m, \u001b[38;5;34m6\u001b[0m)              │           \u001b[38;5;34m198\u001b[0m │\n",
       "└─────────────────────────────────┴────────────────────────┴───────────────┘\n"
      ]
     },
     "metadata": {},
     "output_type": "display_data"
    },
    {
     "data": {
      "text/html": [
       "<pre style=\"white-space:pre;overflow-x:auto;line-height:normal;font-family:Menlo,'DejaVu Sans Mono',consolas,'Courier New',monospace\"><span style=\"font-weight: bold\"> Total params: </span><span style=\"color: #00af00; text-decoration-color: #00af00\">3,001,990</span> (11.45 MB)\n",
       "</pre>\n"
      ],
      "text/plain": [
       "\u001b[1m Total params: \u001b[0m\u001b[38;5;34m3,001,990\u001b[0m (11.45 MB)\n"
      ]
     },
     "metadata": {},
     "output_type": "display_data"
    },
    {
     "data": {
      "text/html": [
       "<pre style=\"white-space:pre;overflow-x:auto;line-height:normal;font-family:Menlo,'DejaVu Sans Mono',consolas,'Courier New',monospace\"><span style=\"font-weight: bold\"> Trainable params: </span><span style=\"color: #00af00; text-decoration-color: #00af00\">3,001,990</span> (11.45 MB)\n",
       "</pre>\n"
      ],
      "text/plain": [
       "\u001b[1m Trainable params: \u001b[0m\u001b[38;5;34m3,001,990\u001b[0m (11.45 MB)\n"
      ]
     },
     "metadata": {},
     "output_type": "display_data"
    },
    {
     "data": {
      "text/html": [
       "<pre style=\"white-space:pre;overflow-x:auto;line-height:normal;font-family:Menlo,'DejaVu Sans Mono',consolas,'Courier New',monospace\"><span style=\"font-weight: bold\"> Non-trainable params: </span><span style=\"color: #00af00; text-decoration-color: #00af00\">0</span> (0.00 B)\n",
       "</pre>\n"
      ],
      "text/plain": [
       "\u001b[1m Non-trainable params: \u001b[0m\u001b[38;5;34m0\u001b[0m (0.00 B)\n"
      ]
     },
     "metadata": {},
     "output_type": "display_data"
    },
    {
     "name": "stdout",
     "output_type": "stream",
     "text": [
      "[]\n",
      "Num GPUs Available:  0\n"
     ]
    }
   ],
   "source": [
    "cnn_model.summary()\n",
    "print(tf.config.list_physical_devices('GPU'))\n",
    "print(\"Num GPUs Available: \", len(tf.config.list_physical_devices('GPU')))\n"
   ]
  },
  {
   "cell_type": "markdown",
   "metadata": {},
   "source": [
    "# Step 6\n",
    "\n",
    "Train the Model\n",
    "\n",
    "* Note: You can change the number of epochs\n"
   ]
  },
  {
   "cell_type": "code",
   "execution_count": 17,
   "metadata": {},
   "outputs": [
    {
     "name": "stdout",
     "output_type": "stream",
     "text": [
      "Epoch 1/50\n",
      "5/5 - 2s - 357ms/step - accuracy: 0.1618 - loss: 1.8600 - val_accuracy: 0.0000e+00 - val_loss: 1.7536\n",
      "Epoch 2/50\n",
      "5/5 - 0s - 43ms/step - accuracy: 0.2353 - loss: 1.7817 - val_accuracy: 0.2500 - val_loss: 1.7458\n",
      "Epoch 3/50\n",
      "5/5 - 0s - 42ms/step - accuracy: 0.2353 - loss: 1.7328 - val_accuracy: 0.2500 - val_loss: 1.6992\n",
      "Epoch 4/50\n",
      "5/5 - 0s - 43ms/step - accuracy: 0.2647 - loss: 1.6798 - val_accuracy: 0.5000 - val_loss: 1.6367\n",
      "Epoch 5/50\n",
      "5/5 - 0s - 47ms/step - accuracy: 0.3824 - loss: 1.4764 - val_accuracy: 0.5000 - val_loss: 1.5938\n",
      "Epoch 6/50\n",
      "5/5 - 0s - 43ms/step - accuracy: 0.3824 - loss: 1.4615 - val_accuracy: 0.5000 - val_loss: 1.1911\n",
      "Epoch 7/50\n",
      "5/5 - 0s - 45ms/step - accuracy: 0.6176 - loss: 1.2520 - val_accuracy: 0.5000 - val_loss: 1.0053\n",
      "Epoch 8/50\n",
      "5/5 - 0s - 46ms/step - accuracy: 0.5735 - loss: 1.0031 - val_accuracy: 0.5000 - val_loss: 0.7663\n",
      "Epoch 9/50\n",
      "5/5 - 0s - 43ms/step - accuracy: 0.6029 - loss: 1.0407 - val_accuracy: 1.0000 - val_loss: 0.7111\n",
      "Epoch 10/50\n",
      "5/5 - 0s - 45ms/step - accuracy: 0.8088 - loss: 0.7762 - val_accuracy: 0.7500 - val_loss: 0.7343\n",
      "Epoch 11/50\n",
      "5/5 - 0s - 42ms/step - accuracy: 0.7647 - loss: 0.6989 - val_accuracy: 1.0000 - val_loss: 0.4354\n",
      "Epoch 12/50\n",
      "5/5 - 0s - 43ms/step - accuracy: 0.7647 - loss: 0.5985 - val_accuracy: 1.0000 - val_loss: 0.1657\n",
      "Epoch 13/50\n",
      "5/5 - 0s - 44ms/step - accuracy: 0.7941 - loss: 0.5432 - val_accuracy: 1.0000 - val_loss: 0.0876\n",
      "Epoch 14/50\n",
      "5/5 - 0s - 44ms/step - accuracy: 0.9265 - loss: 0.4031 - val_accuracy: 1.0000 - val_loss: 0.0809\n",
      "Epoch 15/50\n",
      "5/5 - 0s - 42ms/step - accuracy: 0.9118 - loss: 0.2635 - val_accuracy: 1.0000 - val_loss: 0.0222\n",
      "Epoch 16/50\n",
      "5/5 - 0s - 44ms/step - accuracy: 0.9265 - loss: 0.1695 - val_accuracy: 1.0000 - val_loss: 0.0165\n",
      "Epoch 17/50\n",
      "5/5 - 0s - 44ms/step - accuracy: 0.9265 - loss: 0.2639 - val_accuracy: 1.0000 - val_loss: 0.0106\n",
      "Epoch 18/50\n",
      "5/5 - 0s - 43ms/step - accuracy: 0.9265 - loss: 0.1870 - val_accuracy: 1.0000 - val_loss: 0.0417\n",
      "Epoch 19/50\n",
      "5/5 - 0s - 43ms/step - accuracy: 0.9412 - loss: 0.2420 - val_accuracy: 1.0000 - val_loss: 0.0082\n",
      "Epoch 20/50\n",
      "5/5 - 0s - 45ms/step - accuracy: 0.9412 - loss: 0.1604 - val_accuracy: 1.0000 - val_loss: 0.0155\n",
      "Epoch 21/50\n",
      "5/5 - 0s - 43ms/step - accuracy: 0.9559 - loss: 0.1228 - val_accuracy: 1.0000 - val_loss: 0.0116\n",
      "Epoch 22/50\n",
      "5/5 - 0s - 44ms/step - accuracy: 0.9559 - loss: 0.1338 - val_accuracy: 1.0000 - val_loss: 0.0030\n",
      "Epoch 23/50\n",
      "5/5 - 0s - 43ms/step - accuracy: 0.9559 - loss: 0.0750 - val_accuracy: 1.0000 - val_loss: 7.0099e-04\n",
      "Epoch 24/50\n",
      "5/5 - 0s - 43ms/step - accuracy: 0.9412 - loss: 0.1350 - val_accuracy: 1.0000 - val_loss: 4.6934e-04\n",
      "Epoch 25/50\n",
      "5/5 - 0s - 44ms/step - accuracy: 0.9559 - loss: 0.1167 - val_accuracy: 1.0000 - val_loss: 6.9401e-04\n",
      "Epoch 26/50\n",
      "5/5 - 0s - 42ms/step - accuracy: 1.0000 - loss: 0.0235 - val_accuracy: 1.0000 - val_loss: 5.1743e-04\n",
      "Epoch 27/50\n",
      "5/5 - 0s - 44ms/step - accuracy: 0.9559 - loss: 0.1270 - val_accuracy: 1.0000 - val_loss: 0.0026\n",
      "Epoch 28/50\n",
      "5/5 - 0s - 43ms/step - accuracy: 0.9853 - loss: 0.0569 - val_accuracy: 1.0000 - val_loss: 0.0037\n",
      "Epoch 29/50\n",
      "5/5 - 0s - 41ms/step - accuracy: 0.9706 - loss: 0.0898 - val_accuracy: 1.0000 - val_loss: 0.0035\n",
      "Epoch 30/50\n",
      "5/5 - 0s - 43ms/step - accuracy: 0.9853 - loss: 0.0625 - val_accuracy: 1.0000 - val_loss: 5.8662e-04\n",
      "Epoch 31/50\n",
      "5/5 - 0s - 43ms/step - accuracy: 0.9853 - loss: 0.0266 - val_accuracy: 1.0000 - val_loss: 1.3069e-04\n",
      "Epoch 32/50\n",
      "5/5 - 0s - 47ms/step - accuracy: 1.0000 - loss: 0.0042 - val_accuracy: 1.0000 - val_loss: 3.9873e-05\n",
      "Epoch 33/50\n",
      "5/5 - 0s - 43ms/step - accuracy: 0.9853 - loss: 0.0334 - val_accuracy: 1.0000 - val_loss: 5.6202e-05\n",
      "Epoch 34/50\n",
      "5/5 - 0s - 44ms/step - accuracy: 0.9853 - loss: 0.0276 - val_accuracy: 1.0000 - val_loss: 7.1428e-05\n",
      "Epoch 35/50\n",
      "5/5 - 0s - 42ms/step - accuracy: 1.0000 - loss: 0.0292 - val_accuracy: 1.0000 - val_loss: 7.2411e-05\n",
      "Epoch 36/50\n",
      "5/5 - 0s - 43ms/step - accuracy: 0.9559 - loss: 0.1147 - val_accuracy: 1.0000 - val_loss: 6.0314e-05\n",
      "Epoch 37/50\n",
      "5/5 - 0s - 46ms/step - accuracy: 1.0000 - loss: 0.0192 - val_accuracy: 1.0000 - val_loss: 9.9296e-04\n",
      "Epoch 38/50\n",
      "5/5 - 0s - 43ms/step - accuracy: 0.9412 - loss: 0.1065 - val_accuracy: 1.0000 - val_loss: 0.0024\n",
      "Epoch 39/50\n",
      "5/5 - 0s - 45ms/step - accuracy: 0.9559 - loss: 0.0691 - val_accuracy: 1.0000 - val_loss: 0.0028\n",
      "Epoch 40/50\n",
      "5/5 - 0s - 43ms/step - accuracy: 1.0000 - loss: 0.0691 - val_accuracy: 1.0000 - val_loss: 0.0018\n",
      "Epoch 41/50\n",
      "5/5 - 0s - 44ms/step - accuracy: 0.9706 - loss: 0.1012 - val_accuracy: 1.0000 - val_loss: 3.0500e-04\n",
      "Epoch 42/50\n",
      "5/5 - 0s - 43ms/step - accuracy: 0.9853 - loss: 0.0311 - val_accuracy: 1.0000 - val_loss: 4.5445e-05\n",
      "Epoch 43/50\n",
      "5/5 - 0s - 42ms/step - accuracy: 1.0000 - loss: 0.0264 - val_accuracy: 1.0000 - val_loss: 8.1359e-06\n",
      "Epoch 44/50\n",
      "5/5 - 0s - 44ms/step - accuracy: 0.9706 - loss: 0.0843 - val_accuracy: 1.0000 - val_loss: 2.4109e-05\n",
      "Epoch 45/50\n",
      "5/5 - 0s - 43ms/step - accuracy: 1.0000 - loss: 0.0053 - val_accuracy: 1.0000 - val_loss: 9.0227e-05\n",
      "Epoch 46/50\n",
      "5/5 - 0s - 44ms/step - accuracy: 0.9853 - loss: 0.0174 - val_accuracy: 1.0000 - val_loss: 8.3822e-05\n",
      "Epoch 47/50\n",
      "5/5 - 0s - 45ms/step - accuracy: 0.9706 - loss: 0.0950 - val_accuracy: 1.0000 - val_loss: 7.1457e-05\n",
      "Epoch 48/50\n",
      "5/5 - 0s - 47ms/step - accuracy: 1.0000 - loss: 0.0344 - val_accuracy: 1.0000 - val_loss: 7.0446e-05\n",
      "Epoch 49/50\n",
      "5/5 - 0s - 44ms/step - accuracy: 1.0000 - loss: 0.0090 - val_accuracy: 1.0000 - val_loss: 7.9000e-05\n",
      "Epoch 50/50\n",
      "5/5 - 0s - 45ms/step - accuracy: 0.9853 - loss: 0.0477 - val_accuracy: 1.0000 - val_loss: 6.3297e-05\n"
     ]
    }
   ],
   "source": [
    "history=cnn_model.fit(\n",
    "    x_train, \n",
    "    y_train, \n",
    "    batch_size=16,\n",
    "    epochs=30, \n",
    "    verbose=2,\n",
    "    validation_data=(x_valid,y_valid),\n",
    ")"
   ]
  },
  {
   "cell_type": "markdown",
   "metadata": {},
   "source": [
    "Evaluate the test data\n"
   ]
  },
  {
   "cell_type": "code",
   "execution_count": 18,
   "metadata": {},
   "outputs": [
    {
     "name": "stdout",
     "output_type": "stream",
     "text": [
      "test los 0.0572\n",
      "test acc 0.9444\n"
     ]
    }
   ],
   "source": [
    "scor = cnn_model.evaluate(x_test, y_test, verbose=0)\n",
    "cnn_model.save('models/cnn.keras')\n",
    "\n",
    "print('test los {:.4f}'.format(scor[0]))\n",
    "print('test acc {:.4f}'.format(scor[1]))"
   ]
  },
  {
   "cell_type": "markdown",
   "metadata": {},
   "source": [
    "# Step 7 \n",
    "\n",
    "plot the result"
   ]
  },
  {
   "cell_type": "code",
   "execution_count": 19,
   "metadata": {},
   "outputs": [
    {
     "name": "stdout",
     "output_type": "stream",
     "text": [
      "dict_keys(['accuracy', 'loss', 'val_accuracy', 'val_loss'])\n"
     ]
    },
    {
     "data": {
      "image/png": "[encoded data removed]",
      "text/plain": [
       "<Figure size 640x480 with 1 Axes>"
      ]
     },
     "metadata": {},
     "output_type": "display_data"
    },
    {
     "data": {
      "image/png": "[encoded data removed]",
      "text/plain": [
       "<Figure size 640x480 with 1 Axes>"
      ]
     },
     "metadata": {},
     "output_type": "display_data"
    }
   ],
   "source": [
    "# list all data in history\n",
    "print(history.history.keys())\n",
    "# summarize history for accuracy\n",
    "plt.plot(history.history['accuracy'])\n",
    "plt.plot(history.history['val_accuracy'])\n",
    "plt.title('model accuracy')\n",
    "plt.ylabel('accuracy')\n",
    "plt.xlabel('epoch')\n",
    "plt.legend(['train', 'test'], loc='upper left')\n",
    "plt.show()\n",
    "# summarize history for loss\n",
    "plt.plot(history.history['loss'])\n",
    "plt.plot(history.history['val_loss'])\n",
    "plt.title('model loss')\n",
    "plt.ylabel('loss')\n",
    "plt.xlabel('epoch')\n",
    "plt.legend(['train', 'test'], loc='upper left')\n",
    "plt.show()"
   ]
  }
 ],
 "metadata": {
  "kernelspec": {
   "display_name": "Python 3",
   "language": "python",
   "name": "python3"
  },
  "language_info": {
   "codemirror_mode": {
    "name": "ipython",
    "version": 3
   },
   "file_extension": ".py",
   "mimetype": "text/x-python",
   "name": "python",
   "nbconvert_exporter": "python",
   "pygments_lexer": "ipython3",
   "version": "3.12.2"
  }
 },
 "nbformat": 4,
 "nbformat_minor": 2
}
